{
  "cells": [
    {
      "cell_type": "markdown",
      "metadata": {
        "id": "TspH1wJmAkdk"
      },
      "source": [
        "### For this task we are going to use the \"[Online News Popularity Data Set](https://archive.ics.uci.edu/ml/datasets/Online+News+Popularity#)\"\n",
        "\n",
        "The dataset can be used both for regression and classification tasks.\n",
        "\n",
        "#### Source:\n",
        "\n",
        "Kelwin Fernandes INESC TEC, Porto, Portugal/Universidade do Porto, Portugal.\n",
        "Pedro Vinagre ALGORITMI Research Centre, Universidade do Minho, Portugal\n",
        "Paulo Cortez ALGORITMI Research Centre, Universidade do Minho, Portugal\n",
        "Pedro Sernadela Universidade de Aveiro\n",
        "\n",
        "#### Data Set Information:\n",
        "\n",
        "* The articles were published by Mashable (www.mashable.com) and their content as the rights to reproduce it belongs to them. Hence, this dataset does not share the original content but some statistics associated with it. The original content be publicly accessed and retrieved using the provided urls.\n",
        "* Acquisition date: January 8, 2015\n",
        "* The estimated relative performance values were estimated by the authors using a Random Forest classifier and a rolling windows as assessment method. See their article for more details on how the relative performance values were set.\n",
        "\n",
        "Attribute Information:\n",
        "\n",
        "Number of Attributes: 61 (58 predictive attributes, 2 non-predictive, 1 goal field)\n",
        "\n",
        "Attribute Information:\n",
        "0. url: URL of the article (non-predictive)\n",
        "1. timedelta: Days between the article publication and the dataset acquisition (non-predictive)\n",
        "2. n_tokens_title: Number of words in the title\n",
        "3. n_tokens_content: Number of words in the content\n",
        "4. n_unique_tokens: Rate of unique words in the content\n",
        "5. n_non_stop_words: Rate of non-stop words in the content\n",
        "6. n_non_stop_unique_tokens: Rate of unique non-stop words in the content\n",
        "7. num_hrefs: Number of links\n",
        "8. num_self_hrefs: Number of links to other articles published by Mashable\n",
        "9. num_imgs: Number of images\n",
        "10. num_videos: Number of videos\n",
        "11. average_token_length: Average length of the words in the content\n",
        "12. num_keywords: Number of keywords in the metadata\n",
        "13. data_channel_is_lifestyle: Is data channel 'Lifestyle'?\n",
        "14. data_channel_is_entertainment: Is data channel 'Entertainment'?\n",
        "15. data_channel_is_bus: Is data channel 'Business'?\n",
        "16. data_channel_is_socmed: Is data channel 'Social Media'?\n",
        "17. data_channel_is_tech: Is data channel 'Tech'?\n",
        "18. data_channel_is_world: Is data channel 'World'?\n",
        "19. kw_min_min: Worst keyword (min. shares)\n",
        "20. kw_max_min: Worst keyword (max. shares)\n",
        "21. kw_avg_min: Worst keyword (avg. shares)\n",
        "22. kw_min_max: Best keyword (min. shares)\n",
        "23. kw_max_max: Best keyword (max. shares)\n",
        "24. kw_avg_max: Best keyword (avg. shares)\n",
        "25. kw_min_avg: Avg. keyword (min. shares)\n",
        "26. kw_max_avg: Avg. keyword (max. shares)\n",
        "27. kw_avg_avg: Avg. keyword (avg. shares)\n",
        "28. self_reference_min_shares: Min. shares of referenced articles in Mashable\n",
        "29. self_reference_max_shares: Max. shares of referenced articles in Mashable\n",
        "30. self_reference_avg_sharess: Avg. shares of referenced articles in Mashable\n",
        "31. weekday_is_monday: Was the article published on a Monday?\n",
        "32. weekday_is_tuesday: Was the article published on a Tuesday?\n",
        "33. weekday_is_wednesday: Was the article published on a Wednesday?\n",
        "34. weekday_is_thursday: Was the article published on a Thursday?\n",
        "35. weekday_is_friday: Was the article published on a Friday?\n",
        "36. weekday_is_saturday: Was the article published on a Saturday?\n",
        "37. weekday_is_sunday: Was the article published on a Sunday?\n",
        "38. is_weekend: Was the article published on the weekend?\n",
        "39. LDA_00: Closeness to LDA topic 0\n",
        "40. LDA_01: Closeness to LDA topic 1\n",
        "41. LDA_02: Closeness to LDA topic 2\n",
        "42. LDA_03: Closeness to LDA topic 3\n",
        "43. LDA_04: Closeness to LDA topic 4\n",
        "44. global_subjectivity: Text subjectivity\n",
        "45. global_sentiment_polarity: Text sentiment polarity\n",
        "46. global_rate_positive_words: Rate of positive words in the content\n",
        "47. global_rate_negative_words: Rate of negative words in the content\n",
        "48. rate_positive_words: Rate of positive words among non-neutral tokens\n",
        "49. rate_negative_words: Rate of negative words among non-neutral tokens\n",
        "50. avg_positive_polarity: Avg. polarity of positive words\n",
        "51. min_positive_polarity: Min. polarity of positive words\n",
        "52. max_positive_polarity: Max. polarity of positive words\n",
        "53. avg_negative_polarity: Avg. polarity of negative words\n",
        "54. min_negative_polarity: Min. polarity of negative words\n",
        "55. max_negative_polarity: Max. polarity of negative words\n",
        "56. title_subjectivity: Title subjectivity\n",
        "57. title_sentiment_polarity: Title polarity\n",
        "58. abs_title_subjectivity: Absolute subjectivity level\n",
        "59. abs_title_sentiment_polarity: Absolute polarity level\n",
        "60. shares: Number of shares (target)\n",
        "\n",
        "\n",
        "The first two columns (url and time_delta) are non-predictive and should be ignored\n",
        "\n",
        "The last column **shares** contains the value to predict.\n",
        "\n",
        "### Regression\n",
        "In the case of regression we want to predict the value of the share column.\n",
        "\n",
        "### Classification\n",
        "In the case of classification we want to predict one of two classes:\n",
        "\n",
        "* *low* -- shares < 1,400\n",
        "* *high* -- shares >= 1,400\n",
        "\n",
        "### Metrics\n",
        "\n",
        "#### Regression\n",
        "To evaluate how good we are doing on the **regression** task we will use the Root Mean Squared Error (RMSE). RMSE is given by\n",
        "\n",
        "$$\n",
        "\\sqrt{\\frac{1}{n}\\sum\\limits_{i=1}^{n}{\\Big(d_i -f_i\\Big)^2}}\n",
        "$$\n",
        "\n",
        "\n",
        "where:\n",
        "\n",
        "* $n$ is the number of test samples\n",
        "* $d_i$ is the ground truth value of the i-th sample\n",
        "* $f_i$ is the predicted value of the i-th sample\n",
        "\n",
        "\n",
        "#### Classification\n",
        "To evaluate how good we are doing on the **classification** task we will use the accuracy metrics. Accuracy is given by\n",
        "\n",
        "$$\n",
        "\\frac{TP+TN}{TP+TN+FP+FN}\n",
        "$$\n",
        "\n",
        "where:\n",
        "\n",
        "* TP is the number of *correctly* classified positive samples\n",
        "* TN is the number of *correctly* classified negative samples\n",
        "* FP is the number of *incorrectly* classified positive samples\n",
        "* FN is the number of *incorrectly* classified negative samples"
      ]
    },
    {
      "cell_type": "code",
      "execution_count": null,
      "metadata": {
        "colab": {
          "base_uri": "https://localhost:8080/"
        },
        "id": "oesd6_bYijRo",
        "outputId": "92e4b09e-e261-4a67-c4c6-d885822300a1"
      },
      "outputs": [
        {
          "output_type": "stream",
          "name": "stdout",
          "text": [
            "--2023-05-31 12:55:47--  https://archive.ics.uci.edu/ml/machine-learning-databases/00332/OnlineNewsPopularity.zip\n",
            "Resolving archive.ics.uci.edu (archive.ics.uci.edu)... 128.195.10.252\n",
            "Connecting to archive.ics.uci.edu (archive.ics.uci.edu)|128.195.10.252|:443... connected.\n",
            "HTTP request sent, awaiting response... 200 OK\n",
            "Length: 7476401 (7.1M) [application/x-httpd-php]\n",
            "Saving to: ‘OnlineNewsPopularity.zip’\n",
            "\n",
            "OnlineNewsPopularit 100%[===================>]   7.13M  12.3MB/s    in 0.6s    \n",
            "\n",
            "2023-05-31 12:55:48 (12.3 MB/s) - ‘OnlineNewsPopularity.zip’ saved [7476401/7476401]\n",
            "\n"
          ]
        }
      ],
      "source": [
        "!wget https://archive.ics.uci.edu/ml/machine-learning-databases/00332/OnlineNewsPopularity.zip"
      ]
    },
    {
      "cell_type": "code",
      "execution_count": null,
      "metadata": {
        "colab": {
          "base_uri": "https://localhost:8080/"
        },
        "id": "gmad6QdZ_nFR",
        "outputId": "99b39724-5ea8-419b-a6e3-f41757b73c77"
      },
      "outputs": [
        {
          "output_type": "stream",
          "name": "stdout",
          "text": [
            "Archive:  OnlineNewsPopularity.zip\n",
            "   creating: OnlineNewsPopularity/\n",
            "  inflating: OnlineNewsPopularity/OnlineNewsPopularity.names  \n",
            "  inflating: OnlineNewsPopularity/OnlineNewsPopularity.csv  \n"
          ]
        }
      ],
      "source": [
        "!unzip OnlineNewsPopularity.zip"
      ]
    },
    {
      "cell_type": "code",
      "execution_count": null,
      "metadata": {
        "id": "8eW4t_c6ACcm"
      },
      "outputs": [],
      "source": [
        "import pandas as pd\n",
        "import numpy as np\n",
        "from sklearn.model_selection import train_test_split\n",
        "from sklearn import metrics\n",
        "from sklearn import preprocessing\n",
        "from sklearn.metrics import mean_squared_error\n",
        "from statistics import mean\n",
        "from collections import Counter\n",
        "import matplotlib.pyplot as plt\n",
        "from scipy.spatial.distance import cdist"
      ]
    },
    {
      "cell_type": "markdown",
      "metadata": {
        "id": "yXCX_LpFedtj"
      },
      "source": [
        "Format properly the names of the columns and remove the first two columns"
      ]
    },
    {
      "cell_type": "code",
      "execution_count": null,
      "metadata": {
        "id": "1mxntjhmAH0D"
      },
      "outputs": [],
      "source": [
        "df = pd.read_csv('OnlineNewsPopularity/OnlineNewsPopularity.csv')\n",
        "df = df.rename(columns=lambda x: x.strip())\n",
        "df = df.iloc[: , 2:]"
      ]
    },
    {
      "cell_type": "code",
      "execution_count": null,
      "metadata": {
        "colab": {
          "base_uri": "https://localhost:8080/",
          "height": 488
        },
        "id": "qCXwyljnAMmi",
        "outputId": "63c49f41-ffc6-4e40-d9a3-fbadc0e47e6f"
      },
      "outputs": [
        {
          "data": {
            "text/html": [
              "\n",
              "  <div id=\"df-3e3b060e-b6d6-4e17-9f56-03466930de47\">\n",
              "    <div class=\"colab-df-container\">\n",
              "      <div>\n",
              "<style scoped>\n",
              "    .dataframe tbody tr th:only-of-type {\n",
              "        vertical-align: middle;\n",
              "    }\n",
              "\n",
              "    .dataframe tbody tr th {\n",
              "        vertical-align: top;\n",
              "    }\n",
              "\n",
              "    .dataframe thead th {\n",
              "        text-align: right;\n",
              "    }\n",
              "</style>\n",
              "<table border=\"1\" class=\"dataframe\">\n",
              "  <thead>\n",
              "    <tr style=\"text-align: right;\">\n",
              "      <th></th>\n",
              "      <th>n_tokens_title</th>\n",
              "      <th>n_tokens_content</th>\n",
              "      <th>n_unique_tokens</th>\n",
              "      <th>n_non_stop_words</th>\n",
              "      <th>n_non_stop_unique_tokens</th>\n",
              "      <th>num_hrefs</th>\n",
              "      <th>num_self_hrefs</th>\n",
              "      <th>num_imgs</th>\n",
              "      <th>num_videos</th>\n",
              "      <th>average_token_length</th>\n",
              "      <th>...</th>\n",
              "      <th>min_positive_polarity</th>\n",
              "      <th>max_positive_polarity</th>\n",
              "      <th>avg_negative_polarity</th>\n",
              "      <th>min_negative_polarity</th>\n",
              "      <th>max_negative_polarity</th>\n",
              "      <th>title_subjectivity</th>\n",
              "      <th>title_sentiment_polarity</th>\n",
              "      <th>abs_title_subjectivity</th>\n",
              "      <th>abs_title_sentiment_polarity</th>\n",
              "      <th>shares</th>\n",
              "    </tr>\n",
              "  </thead>\n",
              "  <tbody>\n",
              "    <tr>\n",
              "      <th>0</th>\n",
              "      <td>12.0</td>\n",
              "      <td>219.0</td>\n",
              "      <td>0.663594</td>\n",
              "      <td>1.0</td>\n",
              "      <td>0.815385</td>\n",
              "      <td>4.0</td>\n",
              "      <td>2.0</td>\n",
              "      <td>1.0</td>\n",
              "      <td>0.0</td>\n",
              "      <td>4.680365</td>\n",
              "      <td>...</td>\n",
              "      <td>0.100000</td>\n",
              "      <td>0.70</td>\n",
              "      <td>-0.350000</td>\n",
              "      <td>-0.600</td>\n",
              "      <td>-0.200000</td>\n",
              "      <td>0.500000</td>\n",
              "      <td>-0.187500</td>\n",
              "      <td>0.000000</td>\n",
              "      <td>0.187500</td>\n",
              "      <td>593</td>\n",
              "    </tr>\n",
              "    <tr>\n",
              "      <th>1</th>\n",
              "      <td>9.0</td>\n",
              "      <td>255.0</td>\n",
              "      <td>0.604743</td>\n",
              "      <td>1.0</td>\n",
              "      <td>0.791946</td>\n",
              "      <td>3.0</td>\n",
              "      <td>1.0</td>\n",
              "      <td>1.0</td>\n",
              "      <td>0.0</td>\n",
              "      <td>4.913725</td>\n",
              "      <td>...</td>\n",
              "      <td>0.033333</td>\n",
              "      <td>0.70</td>\n",
              "      <td>-0.118750</td>\n",
              "      <td>-0.125</td>\n",
              "      <td>-0.100000</td>\n",
              "      <td>0.000000</td>\n",
              "      <td>0.000000</td>\n",
              "      <td>0.500000</td>\n",
              "      <td>0.000000</td>\n",
              "      <td>711</td>\n",
              "    </tr>\n",
              "    <tr>\n",
              "      <th>2</th>\n",
              "      <td>9.0</td>\n",
              "      <td>211.0</td>\n",
              "      <td>0.575130</td>\n",
              "      <td>1.0</td>\n",
              "      <td>0.663866</td>\n",
              "      <td>3.0</td>\n",
              "      <td>1.0</td>\n",
              "      <td>1.0</td>\n",
              "      <td>0.0</td>\n",
              "      <td>4.393365</td>\n",
              "      <td>...</td>\n",
              "      <td>0.100000</td>\n",
              "      <td>1.00</td>\n",
              "      <td>-0.466667</td>\n",
              "      <td>-0.800</td>\n",
              "      <td>-0.133333</td>\n",
              "      <td>0.000000</td>\n",
              "      <td>0.000000</td>\n",
              "      <td>0.500000</td>\n",
              "      <td>0.000000</td>\n",
              "      <td>1500</td>\n",
              "    </tr>\n",
              "    <tr>\n",
              "      <th>3</th>\n",
              "      <td>9.0</td>\n",
              "      <td>531.0</td>\n",
              "      <td>0.503788</td>\n",
              "      <td>1.0</td>\n",
              "      <td>0.665635</td>\n",
              "      <td>9.0</td>\n",
              "      <td>0.0</td>\n",
              "      <td>1.0</td>\n",
              "      <td>0.0</td>\n",
              "      <td>4.404896</td>\n",
              "      <td>...</td>\n",
              "      <td>0.136364</td>\n",
              "      <td>0.80</td>\n",
              "      <td>-0.369697</td>\n",
              "      <td>-0.600</td>\n",
              "      <td>-0.166667</td>\n",
              "      <td>0.000000</td>\n",
              "      <td>0.000000</td>\n",
              "      <td>0.500000</td>\n",
              "      <td>0.000000</td>\n",
              "      <td>1200</td>\n",
              "    </tr>\n",
              "    <tr>\n",
              "      <th>4</th>\n",
              "      <td>13.0</td>\n",
              "      <td>1072.0</td>\n",
              "      <td>0.415646</td>\n",
              "      <td>1.0</td>\n",
              "      <td>0.540890</td>\n",
              "      <td>19.0</td>\n",
              "      <td>19.0</td>\n",
              "      <td>20.0</td>\n",
              "      <td>0.0</td>\n",
              "      <td>4.682836</td>\n",
              "      <td>...</td>\n",
              "      <td>0.033333</td>\n",
              "      <td>1.00</td>\n",
              "      <td>-0.220192</td>\n",
              "      <td>-0.500</td>\n",
              "      <td>-0.050000</td>\n",
              "      <td>0.454545</td>\n",
              "      <td>0.136364</td>\n",
              "      <td>0.045455</td>\n",
              "      <td>0.136364</td>\n",
              "      <td>505</td>\n",
              "    </tr>\n",
              "    <tr>\n",
              "      <th>...</th>\n",
              "      <td>...</td>\n",
              "      <td>...</td>\n",
              "      <td>...</td>\n",
              "      <td>...</td>\n",
              "      <td>...</td>\n",
              "      <td>...</td>\n",
              "      <td>...</td>\n",
              "      <td>...</td>\n",
              "      <td>...</td>\n",
              "      <td>...</td>\n",
              "      <td>...</td>\n",
              "      <td>...</td>\n",
              "      <td>...</td>\n",
              "      <td>...</td>\n",
              "      <td>...</td>\n",
              "      <td>...</td>\n",
              "      <td>...</td>\n",
              "      <td>...</td>\n",
              "      <td>...</td>\n",
              "      <td>...</td>\n",
              "      <td>...</td>\n",
              "    </tr>\n",
              "    <tr>\n",
              "      <th>39639</th>\n",
              "      <td>11.0</td>\n",
              "      <td>346.0</td>\n",
              "      <td>0.529052</td>\n",
              "      <td>1.0</td>\n",
              "      <td>0.684783</td>\n",
              "      <td>9.0</td>\n",
              "      <td>7.0</td>\n",
              "      <td>1.0</td>\n",
              "      <td>1.0</td>\n",
              "      <td>4.523121</td>\n",
              "      <td>...</td>\n",
              "      <td>0.100000</td>\n",
              "      <td>0.75</td>\n",
              "      <td>-0.260000</td>\n",
              "      <td>-0.500</td>\n",
              "      <td>-0.125000</td>\n",
              "      <td>0.100000</td>\n",
              "      <td>0.000000</td>\n",
              "      <td>0.400000</td>\n",
              "      <td>0.000000</td>\n",
              "      <td>1800</td>\n",
              "    </tr>\n",
              "    <tr>\n",
              "      <th>39640</th>\n",
              "      <td>12.0</td>\n",
              "      <td>328.0</td>\n",
              "      <td>0.696296</td>\n",
              "      <td>1.0</td>\n",
              "      <td>0.885057</td>\n",
              "      <td>9.0</td>\n",
              "      <td>7.0</td>\n",
              "      <td>3.0</td>\n",
              "      <td>48.0</td>\n",
              "      <td>4.405488</td>\n",
              "      <td>...</td>\n",
              "      <td>0.136364</td>\n",
              "      <td>0.70</td>\n",
              "      <td>-0.211111</td>\n",
              "      <td>-0.400</td>\n",
              "      <td>-0.100000</td>\n",
              "      <td>0.300000</td>\n",
              "      <td>1.000000</td>\n",
              "      <td>0.200000</td>\n",
              "      <td>1.000000</td>\n",
              "      <td>1900</td>\n",
              "    </tr>\n",
              "    <tr>\n",
              "      <th>39641</th>\n",
              "      <td>10.0</td>\n",
              "      <td>442.0</td>\n",
              "      <td>0.516355</td>\n",
              "      <td>1.0</td>\n",
              "      <td>0.644128</td>\n",
              "      <td>24.0</td>\n",
              "      <td>1.0</td>\n",
              "      <td>12.0</td>\n",
              "      <td>1.0</td>\n",
              "      <td>5.076923</td>\n",
              "      <td>...</td>\n",
              "      <td>0.136364</td>\n",
              "      <td>0.50</td>\n",
              "      <td>-0.356439</td>\n",
              "      <td>-0.800</td>\n",
              "      <td>-0.166667</td>\n",
              "      <td>0.454545</td>\n",
              "      <td>0.136364</td>\n",
              "      <td>0.045455</td>\n",
              "      <td>0.136364</td>\n",
              "      <td>1900</td>\n",
              "    </tr>\n",
              "    <tr>\n",
              "      <th>39642</th>\n",
              "      <td>6.0</td>\n",
              "      <td>682.0</td>\n",
              "      <td>0.539493</td>\n",
              "      <td>1.0</td>\n",
              "      <td>0.692661</td>\n",
              "      <td>10.0</td>\n",
              "      <td>1.0</td>\n",
              "      <td>1.0</td>\n",
              "      <td>0.0</td>\n",
              "      <td>4.975073</td>\n",
              "      <td>...</td>\n",
              "      <td>0.062500</td>\n",
              "      <td>0.50</td>\n",
              "      <td>-0.205246</td>\n",
              "      <td>-0.500</td>\n",
              "      <td>-0.012500</td>\n",
              "      <td>0.000000</td>\n",
              "      <td>0.000000</td>\n",
              "      <td>0.500000</td>\n",
              "      <td>0.000000</td>\n",
              "      <td>1100</td>\n",
              "    </tr>\n",
              "    <tr>\n",
              "      <th>39643</th>\n",
              "      <td>10.0</td>\n",
              "      <td>157.0</td>\n",
              "      <td>0.701987</td>\n",
              "      <td>1.0</td>\n",
              "      <td>0.846154</td>\n",
              "      <td>1.0</td>\n",
              "      <td>1.0</td>\n",
              "      <td>0.0</td>\n",
              "      <td>2.0</td>\n",
              "      <td>4.471338</td>\n",
              "      <td>...</td>\n",
              "      <td>0.100000</td>\n",
              "      <td>0.50</td>\n",
              "      <td>-0.200000</td>\n",
              "      <td>-0.200</td>\n",
              "      <td>-0.200000</td>\n",
              "      <td>0.333333</td>\n",
              "      <td>0.250000</td>\n",
              "      <td>0.166667</td>\n",
              "      <td>0.250000</td>\n",
              "      <td>1300</td>\n",
              "    </tr>\n",
              "  </tbody>\n",
              "</table>\n",
              "<p>39644 rows × 59 columns</p>\n",
              "</div>\n",
              "      <button class=\"colab-df-convert\" onclick=\"convertToInteractive('df-3e3b060e-b6d6-4e17-9f56-03466930de47')\"\n",
              "              title=\"Convert this dataframe to an interactive table.\"\n",
              "              style=\"display:none;\">\n",
              "        \n",
              "  <svg xmlns=\"http://www.w3.org/2000/svg\" height=\"24px\"viewBox=\"0 0 24 24\"\n",
              "       width=\"24px\">\n",
              "    <path d=\"M0 0h24v24H0V0z\" fill=\"none\"/>\n",
              "    <path d=\"M18.56 5.44l.94 2.06.94-2.06 2.06-.94-2.06-.94-.94-2.06-.94 2.06-2.06.94zm-11 1L8.5 8.5l.94-2.06 2.06-.94-2.06-.94L8.5 2.5l-.94 2.06-2.06.94zm10 10l.94 2.06.94-2.06 2.06-.94-2.06-.94-.94-2.06-.94 2.06-2.06.94z\"/><path d=\"M17.41 7.96l-1.37-1.37c-.4-.4-.92-.59-1.43-.59-.52 0-1.04.2-1.43.59L10.3 9.45l-7.72 7.72c-.78.78-.78 2.05 0 2.83L4 21.41c.39.39.9.59 1.41.59.51 0 1.02-.2 1.41-.59l7.78-7.78 2.81-2.81c.8-.78.8-2.07 0-2.86zM5.41 20L4 18.59l7.72-7.72 1.47 1.35L5.41 20z\"/>\n",
              "  </svg>\n",
              "      </button>\n",
              "      \n",
              "  <style>\n",
              "    .colab-df-container {\n",
              "      display:flex;\n",
              "      flex-wrap:wrap;\n",
              "      gap: 12px;\n",
              "    }\n",
              "\n",
              "    .colab-df-convert {\n",
              "      background-color: #E8F0FE;\n",
              "      border: none;\n",
              "      border-radius: 50%;\n",
              "      cursor: pointer;\n",
              "      display: none;\n",
              "      fill: #1967D2;\n",
              "      height: 32px;\n",
              "      padding: 0 0 0 0;\n",
              "      width: 32px;\n",
              "    }\n",
              "\n",
              "    .colab-df-convert:hover {\n",
              "      background-color: #E2EBFA;\n",
              "      box-shadow: 0px 1px 2px rgba(60, 64, 67, 0.3), 0px 1px 3px 1px rgba(60, 64, 67, 0.15);\n",
              "      fill: #174EA6;\n",
              "    }\n",
              "\n",
              "    [theme=dark] .colab-df-convert {\n",
              "      background-color: #3B4455;\n",
              "      fill: #D2E3FC;\n",
              "    }\n",
              "\n",
              "    [theme=dark] .colab-df-convert:hover {\n",
              "      background-color: #434B5C;\n",
              "      box-shadow: 0px 1px 3px 1px rgba(0, 0, 0, 0.15);\n",
              "      filter: drop-shadow(0px 1px 2px rgba(0, 0, 0, 0.3));\n",
              "      fill: #FFFFFF;\n",
              "    }\n",
              "  </style>\n",
              "\n",
              "      <script>\n",
              "        const buttonEl =\n",
              "          document.querySelector('#df-3e3b060e-b6d6-4e17-9f56-03466930de47 button.colab-df-convert');\n",
              "        buttonEl.style.display =\n",
              "          google.colab.kernel.accessAllowed ? 'block' : 'none';\n",
              "\n",
              "        async function convertToInteractive(key) {\n",
              "          const element = document.querySelector('#df-3e3b060e-b6d6-4e17-9f56-03466930de47');\n",
              "          const dataTable =\n",
              "            await google.colab.kernel.invokeFunction('convertToInteractive',\n",
              "                                                     [key], {});\n",
              "          if (!dataTable) return;\n",
              "\n",
              "          const docLinkHtml = 'Like what you see? Visit the ' +\n",
              "            '<a target=\"_blank\" href=https://colab.research.google.com/notebooks/data_table.ipynb>data table notebook</a>'\n",
              "            + ' to learn more about interactive tables.';\n",
              "          element.innerHTML = '';\n",
              "          dataTable['output_type'] = 'display_data';\n",
              "          await google.colab.output.renderOutput(dataTable, element);\n",
              "          const docLink = document.createElement('div');\n",
              "          docLink.innerHTML = docLinkHtml;\n",
              "          element.appendChild(docLink);\n",
              "        }\n",
              "      </script>\n",
              "    </div>\n",
              "  </div>\n",
              "  "
            ],
            "text/plain": [
              "       n_tokens_title  n_tokens_content  n_unique_tokens  n_non_stop_words  \\\n",
              "0                12.0             219.0         0.663594               1.0   \n",
              "1                 9.0             255.0         0.604743               1.0   \n",
              "2                 9.0             211.0         0.575130               1.0   \n",
              "3                 9.0             531.0         0.503788               1.0   \n",
              "4                13.0            1072.0         0.415646               1.0   \n",
              "...               ...               ...              ...               ...   \n",
              "39639            11.0             346.0         0.529052               1.0   \n",
              "39640            12.0             328.0         0.696296               1.0   \n",
              "39641            10.0             442.0         0.516355               1.0   \n",
              "39642             6.0             682.0         0.539493               1.0   \n",
              "39643            10.0             157.0         0.701987               1.0   \n",
              "\n",
              "       n_non_stop_unique_tokens  num_hrefs  num_self_hrefs  num_imgs  \\\n",
              "0                      0.815385        4.0             2.0       1.0   \n",
              "1                      0.791946        3.0             1.0       1.0   \n",
              "2                      0.663866        3.0             1.0       1.0   \n",
              "3                      0.665635        9.0             0.0       1.0   \n",
              "4                      0.540890       19.0            19.0      20.0   \n",
              "...                         ...        ...             ...       ...   \n",
              "39639                  0.684783        9.0             7.0       1.0   \n",
              "39640                  0.885057        9.0             7.0       3.0   \n",
              "39641                  0.644128       24.0             1.0      12.0   \n",
              "39642                  0.692661       10.0             1.0       1.0   \n",
              "39643                  0.846154        1.0             1.0       0.0   \n",
              "\n",
              "       num_videos  average_token_length  ...  min_positive_polarity  \\\n",
              "0             0.0              4.680365  ...               0.100000   \n",
              "1             0.0              4.913725  ...               0.033333   \n",
              "2             0.0              4.393365  ...               0.100000   \n",
              "3             0.0              4.404896  ...               0.136364   \n",
              "4             0.0              4.682836  ...               0.033333   \n",
              "...           ...                   ...  ...                    ...   \n",
              "39639         1.0              4.523121  ...               0.100000   \n",
              "39640        48.0              4.405488  ...               0.136364   \n",
              "39641         1.0              5.076923  ...               0.136364   \n",
              "39642         0.0              4.975073  ...               0.062500   \n",
              "39643         2.0              4.471338  ...               0.100000   \n",
              "\n",
              "       max_positive_polarity  avg_negative_polarity  min_negative_polarity  \\\n",
              "0                       0.70              -0.350000                 -0.600   \n",
              "1                       0.70              -0.118750                 -0.125   \n",
              "2                       1.00              -0.466667                 -0.800   \n",
              "3                       0.80              -0.369697                 -0.600   \n",
              "4                       1.00              -0.220192                 -0.500   \n",
              "...                      ...                    ...                    ...   \n",
              "39639                   0.75              -0.260000                 -0.500   \n",
              "39640                   0.70              -0.211111                 -0.400   \n",
              "39641                   0.50              -0.356439                 -0.800   \n",
              "39642                   0.50              -0.205246                 -0.500   \n",
              "39643                   0.50              -0.200000                 -0.200   \n",
              "\n",
              "       max_negative_polarity  title_subjectivity  title_sentiment_polarity  \\\n",
              "0                  -0.200000            0.500000                 -0.187500   \n",
              "1                  -0.100000            0.000000                  0.000000   \n",
              "2                  -0.133333            0.000000                  0.000000   \n",
              "3                  -0.166667            0.000000                  0.000000   \n",
              "4                  -0.050000            0.454545                  0.136364   \n",
              "...                      ...                 ...                       ...   \n",
              "39639              -0.125000            0.100000                  0.000000   \n",
              "39640              -0.100000            0.300000                  1.000000   \n",
              "39641              -0.166667            0.454545                  0.136364   \n",
              "39642              -0.012500            0.000000                  0.000000   \n",
              "39643              -0.200000            0.333333                  0.250000   \n",
              "\n",
              "       abs_title_subjectivity  abs_title_sentiment_polarity  shares  \n",
              "0                    0.000000                      0.187500     593  \n",
              "1                    0.500000                      0.000000     711  \n",
              "2                    0.500000                      0.000000    1500  \n",
              "3                    0.500000                      0.000000    1200  \n",
              "4                    0.045455                      0.136364     505  \n",
              "...                       ...                           ...     ...  \n",
              "39639                0.400000                      0.000000    1800  \n",
              "39640                0.200000                      1.000000    1900  \n",
              "39641                0.045455                      0.136364    1900  \n",
              "39642                0.500000                      0.000000    1100  \n",
              "39643                0.166667                      0.250000    1300  \n",
              "\n",
              "[39644 rows x 59 columns]"
            ]
          },
          "execution_count": 5,
          "metadata": {},
          "output_type": "execute_result"
        }
      ],
      "source": [
        "df"
      ]
    },
    {
      "cell_type": "markdown",
      "metadata": {
        "id": "vmWAIUmZbi6G"
      },
      "source": [
        "\n",
        "#  Decision Tree - Classification\n",
        "\n",
        "\n"
      ]
    },
    {
      "cell_type": "markdown",
      "metadata": {
        "id": "k4YphIVgu120"
      },
      "source": [
        "A **Decision Tree**, or decision tree, is a machine learning model used for classification and regression. In the case of classification, the goal is to construct a tree that takes as input a set of attributes and produces as output a binary decision (positive or negative class).\n",
        "\n",
        "The decision tree consists of nodes representing decisions made about the input data and branches representing possible responses to those decisions. The root node represents the first decision to be made and each child node represents the next decision. Each leaf of the tree represents an output class.\n",
        "\n",
        "During the construction of the tree, the learning algorithm tries to find the sequence of decisions that maximizes the separation between the output classes. Specifically, the algorithm chooses the decision that maximizes Information Gain (IG), which is a measure of how much the decisions reduce uncertainty about the output class. The goal is to find the simplest and most generalizable model possible.\n",
        "\n",
        "Once the tree is constructed, to classify a new instance, one starts at the root and moves down the correct path through the child nodes, following the decisions made about the values of the instance's attributes. Eventually, you arrive at a leaf that represents the output class for that specific instance.\n",
        "\n",
        "\n",
        "![Immagine 2023-05-14 165440.png](data:image/png;base64,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)\n",
        "\n",
        "Fig.1 : Example of Decision Tree"
      ]
    },
    {
      "cell_type": "code",
      "execution_count": null,
      "metadata": {
        "id": "lmWzG06Z0J97"
      },
      "outputs": [],
      "source": [
        "class Node():\n",
        "    def __init__(self, feature_index=None, threshold=None, left=None, right=None, info_gain=None, value=None):\n",
        "        # For decision node\n",
        "        self.feature_index = feature_index  # the index of the feature used for splitting\n",
        "        self.threshold = threshold          # the threshold for the split\n",
        "        self.left = left                    # the left subtree\n",
        "        self.right = right                  # the right subtree\n",
        "        self.info_gain = info_gain          # the information gain obtained with this split\n",
        "\n",
        "        # For leaf node\n",
        "        self.value = value                  # the prediction value for the leaf node\n",
        "\n",
        "'''\n",
        "The DecisionTreeClassifier class contains the main code for model construction and prediction.\n",
        "\n",
        "'''\n",
        "class DecisionTreeClassifier():\n",
        "\n",
        "    '''\n",
        "    The __init__ constructor is used to set model parameters,\n",
        "    such as the minimum number of samples required to split (min_samples_split)\n",
        "    and the maximum tree depth (max_depth).\n",
        "\n",
        "    '''\n",
        "    def __init__(self, min_samples_split=2, max_depth=3):\n",
        "        # Initialize the root of the tree\n",
        "        self.root = None\n",
        "        # Settings for stopping conditions\n",
        "        self.min_samples_split = min_samples_split  # minimum number of samples to perform a split\n",
        "        self.max_depth = max_depth                  # maximum tree depth\n",
        "\n",
        "    '''\n",
        "    The build_tree function is used to construct the decision tree from the training dataset.\n",
        "    The function recursively divides the dataset based on the best splits that result in the highest information gain.\n",
        "    The tree is built until the specified stopping conditions are met (min_samples_split and max_depth).\n",
        "\n",
        "    '''\n",
        "    def build_tree(self, dataset, curr_depth=0):\n",
        "\n",
        "        x, y = dataset.iloc[:, :58], dataset['class']  # extract features and the target from the dataset\n",
        "        num_samples, num_features = len(x.columns), len(x)  # divide until stopping conditions are met\n",
        "\n",
        "        if num_samples >= self.min_samples_split and curr_depth <= self.max_depth:\n",
        "\n",
        "            best_split = self.get_best_split(dataset, num_samples, num_features)  # find the best split\n",
        "\n",
        "            if \"info_gain\" in best_split and best_split[\"info_gain\"] > 0:  # check if information gain is positive\n",
        "\n",
        "                left_subtree = self.build_tree(best_split[\"dataset_left\"], curr_depth + 1)  # recursion on the left subtree\n",
        "                right_subtree = self.build_tree(best_split[\"dataset_right\"], curr_depth + 1)  # recursion on the right subtree\n",
        "\n",
        "                return Node(\n",
        "                    best_split[\"feature_index\"], best_split[\"threshold\"],\n",
        "                    left_subtree, right_subtree, best_split[\"info_gain\"]\n",
        "                )\n",
        "\n",
        "        leaf_value = self.calculate_leaf_value(y)  # calculate the prediction value for the leaf node\n",
        "\n",
        "        return Node(value=leaf_value)  # return the leaf node\n",
        "\n",
        "    '''\n",
        "    Function to calculate entropy\n",
        "\n",
        "    '''\n",
        "    def entropy(self, y):\n",
        "        h = 0\n",
        "        if len(y) > 0:\n",
        "            counts = Counter(y)\n",
        "            p = counts[0]\n",
        "            n = counts[1]\n",
        "            q = p / (p + n)\n",
        "            if 0 < q < 1:\n",
        "                h = - (q * np.log2(q) + (1 - q) * np.log2(1 - q))\n",
        "        return h\n",
        "\n",
        "    '''\n",
        "    Function to split the dataset based on feature and threshold\n",
        "\n",
        "    '''\n",
        "    def split(self, dataset, feature_index, threshold):\n",
        "        df_left = dataset[dataset.iloc[:, feature_index] <= threshold]\n",
        "        df_right = dataset[dataset.iloc[:, feature_index] > threshold]\n",
        "        return df_left, df_right\n",
        "\n",
        "    '''\n",
        "    Function to calculate information gain\n",
        "\n",
        "    '''\n",
        "    def information_gain(self, parent, l_child, r_child):\n",
        "        weight_l = len(l_child) / len(parent)\n",
        "        weight_r = len(r_child) / len(parent)\n",
        "        gain = self.entropy(parent) - (weight_l * self.entropy(l_child) + weight_r * self.entropy(r_child))\n",
        "        return gain\n",
        "\n",
        "    '''\n",
        "    The get_best_split function is used to find the best split.\n",
        "    It iterates over all features and finds the median of feature values.\n",
        "    Then, it calculates the information gain of the split and finds the split with the highest information gain.\n",
        "\n",
        "    '''\n",
        "    def get_best_split(self, dataset, num_samples, num_features):\n",
        "\n",
        "        best_split = {}\n",
        "        max_info_gain = -float(\"inf\")\n",
        "\n",
        "        for feature_index in range(58):\n",
        "\n",
        "            feature_values = dataset.iloc[:, feature_index]\n",
        "            median = feature_values.median()\n",
        "            df_left, df_right = self.split(dataset, feature_index, median)\n",
        "\n",
        "            if len(df_left) > 0 and len(df_right) > 0:\n",
        "\n",
        "                y, left_y, right_y = dataset['class'], df_left['class'], df_right['class']\n",
        "                curr_info_gain = self.information_gain(y, left_y, right_y)\n",
        "\n",
        "                if curr_info_gain > max_info_gain:\n",
        "\n",
        "                    best_split[\"feature_index\"] = feature_index\n",
        "                    best_split[\"threshold\"] = median\n",
        "                    best_split[\"dataset_left\"] = df_left\n",
        "                    best_split[\"dataset_right\"] = df_right\n",
        "                    best_split[\"info_gain\"] = curr_info_gain\n",
        "                    max_info_gain = curr_info_gain\n",
        "\n",
        "        return best_split\n",
        "\n",
        "    '''\n",
        "    The calculate_leaf_value function is used to calculate the value of leaf nodes in the decision tree.\n",
        "    In this case, it returns the majority class in the leaf.\n",
        "\n",
        "    '''\n",
        "    def calculate_leaf_value(self, Y):\n",
        "        Y = Y.tolist()\n",
        "        return max(Y, key=Y.count)\n",
        "\n",
        "    def fit(self, dataset):\n",
        "        self.root = self.build_tree(dataset)\n",
        "\n",
        "    '''\n",
        "    The predict function is used to make predictions for an entire dataset,\n",
        "    using the make_prediction function for each data point in the dataset.\n",
        "\n",
        "    '''\n",
        "    def predict(self, X):\n",
        "        predictions = []\n",
        "        for i in range(len(X)):\n",
        "            predictions.append(self.make_prediction(X.iloc[i, :], self.root))\n",
        "        return predictions\n",
        "\n",
        "    '''\n",
        "    The make_prediction function is used to make a prediction for a single data point.\n",
        "    The function traverses the tree until it reaches a leaf and then returns the predicted class for that leaf.\n",
        "\n",
        "    '''\n",
        "    def make_prediction(self, x, tree):\n",
        "        if tree.value is not None:\n",
        "            return tree.value\n",
        "        feature_val = x[tree.feature_index]\n",
        "        if feature_val <= tree.threshold:\n",
        "            return self.make_prediction(x, tree.left)\n",
        "        else:\n",
        "            return self.make_prediction(x, tree.right)"
      ]
    },
    {
      "cell_type": "markdown",
      "metadata": {
        "id": "xiReAP_SiGoJ"
      },
      "source": [
        "We divide the dataset into 3:\n",
        "1. a set of **training** to train the candidate models;\n",
        "2. a set of **validation**, to evaluate the candidate models and choose the best one;\n",
        "3. a set of **tests** to perform a final unbiased evaluation of the best model"
      ]
    },
    {
      "cell_type": "code",
      "execution_count": null,
      "metadata": {
        "id": "ca_zR3p-prTD"
      },
      "outputs": [],
      "source": [
        "# Creating a copy of the original dataframe\n",
        "data_classification = df.copy()\n",
        "\n",
        "# Adding a new column 'class' indicating whether an article has received more than 1400 shares\n",
        "# The value 1 indicates that the article received more than 1400 shares, while 0 indicates it received fewer.\n",
        "data_classification['class'] = np.where(data_classification['shares'] >= 1400, 1, 0)\n",
        "\n",
        "# Removing the 'shares' column as it will not be used as an input feature\n",
        "data_classification = data_classification.drop('shares', axis=1)\n",
        "\n",
        "# Splitting the dataset into training and test sets\n",
        "dataset_train, dataset_test = train_test_split(data_classification, test_size=0.2, random_state=1)\n",
        "\n",
        "# Splitting the dataset into training and validation sets\n",
        "dataset_train, dataset_validation = train_test_split(dataset_train, test_size=0.2, random_state=1)\n",
        "\n",
        "# Separating input features (x) from the output class (y) in the training set\n",
        "x_train, y_train = dataset_train.iloc[:, :58], dataset_train['class']\n",
        "\n",
        "# Separating input features (x) from the output class (y) in the validation set\n",
        "x_valid, y_valid = dataset_validation.iloc[:, :58], dataset_validation['class']\n",
        "\n",
        "# Separating input features (x) from the output class (y) in the test set\n",
        "x_test, y_test = dataset_test.iloc[:, :58], dataset_test['class']"
      ]
    },
    {
      "cell_type": "markdown",
      "metadata": {
        "id": "KK1WIcOSlYXV"
      },
      "source": [
        "**Tuning of hyperparameters**\n",
        "\n",
        "We optimize the maximum depth of the decision tree by adjusting the hyperparameters in the range from 1 to 10."
      ]
    },
    {
      "cell_type": "code",
      "execution_count": null,
      "metadata": {
        "id": "czNNocoskmVX"
      },
      "outputs": [],
      "source": [
        "MAX_DEPTH = 10\n",
        "accuracy = []\n",
        "f1 = []\n",
        "auc = []\n",
        "\n",
        "for i in range(1, MAX_DEPTH + 1):\n",
        "  # Creating the classifier based on a decision tree\n",
        "  classifier = DecisionTreeClassifier(max_depth=i)\n",
        "\n",
        "  # Training the classifier on the training set\n",
        "  classifier.fit(dataset_train)\n",
        "\n",
        "  # Classifying articles in the validation set\n",
        "  y_pred = classifier.predict(x_valid)\n",
        "\n",
        "  # Calculating the classification accuracy\n",
        "  accuracy.append(metrics.accuracy_score(y_valid, y_pred))\n",
        "\n",
        "  # Calculating the F1 score of the classification\n",
        "  f1.append(metrics.f1_score(y_valid, y_pred))\n",
        "\n",
        "  # Calculating the AUC (Area Under the ROC Curve) of the classification\n",
        "  auc.append(metrics.roc_auc_score(y_valid, y_pred))"
      ]
    },
    {
      "cell_type": "markdown",
      "metadata": {
        "id": "DldORVCD1xw9"
      },
      "source": [
        "We go on to evaluate models on multiple metrics, such as:\n",
        "\n",
        "* Accuracy\n",
        "* F1 score\n",
        "* AUC score.\n",
        "\n",
        "Accuracy gives us an overall picture of how much we can rely on the prediction of our model.\n",
        "This metric is blind to the difference between classes and types of errors, so for the accuracy of unbalanced datasets, it is generally not sufficient.\n",
        "$$\n",
        "Accuracy = \\dfrac{\\textrm{Number of correct predictions}}{\\textrm{Total number of predictions made}}\n",
        "$$"
      ]
    },
    {
      "cell_type": "code",
      "execution_count": null,
      "metadata": {
        "colab": {
          "base_uri": "https://localhost:8080/",
          "height": 453
        },
        "id": "tYO6zsTD0JQO",
        "outputId": "c441b02c-7501-4344-951e-0c900f9dc6ec"
      },
      "outputs": [
        {
          "data": {
            "image/png": "[encoded data removed]",
            "text/plain": [
              "<Figure size 640x480 with 1 Axes>"
            ]
          },
          "metadata": {},
          "output_type": "display_data"
        }
      ],
      "source": [
        "x = np.arange(MAX_DEPTH) + 1\n",
        "plt.plot(x, accuracy, label='Accuracy su validation-set')\n",
        "plt.xlabel('Maximum Depth') # Label x-axis\n",
        "plt.ylabel('Accuracy') # Label y-axis\n",
        "plt.legend() # Show plot labels as legend\n",
        "plt.show() # Show graph"
      ]
    },
    {
      "cell_type": "markdown",
      "metadata": {
        "id": "SXupl3UImjV0"
      },
      "source": [
        "The **F1 score** is a measure that combines the precision and recall of a classification model to evaluate its performance. It represents the harmonic mean between precision and recall and is defined as:\n",
        "\n",
        "$$\n",
        "F1\\ score = \\dfrac{2 \\cdot Precision \\cdot Recall} {Precision + Recall}\n",
        "$$\n",
        "\n",
        "Where precision represents the proportion of positive instances identified correctly relative to all instances identified as positive\n",
        "\n",
        "$$\n",
        "Precision = \\dfrac{TP}{TP+FP}\n",
        "$$\n",
        "\n",
        "and the recall represents the proportion of correctly identified positive instances to all actually positive instances.\n",
        "\n",
        "$$\n",
        "Recall = \\dfrac{TP}{TP+FN}\n",
        "$$\n",
        "\n",
        "The F1 score is useful when you want to balance precision and recall to get an overall assessment of the performance of the classification model."
      ]
    },
    {
      "cell_type": "code",
      "execution_count": null,
      "metadata": {
        "colab": {
          "base_uri": "https://localhost:8080/",
          "height": 449
        },
        "id": "1TWBt0eJ0FoC",
        "outputId": "0bfe6376-5a15-46c8-cf8c-266d866cfd4d"
      },
      "outputs": [
        {
          "data": {
            "image/png": "[encoded data removed]",
            "text/plain": [
              "<Figure size 640x480 with 1 Axes>"
            ]
          },
          "metadata": {},
          "output_type": "display_data"
        }
      ],
      "source": [
        "plt.plot(x, f1, label='F1 score su validation-set')\n",
        "plt.xlabel('Maximum Depth') # Label x-axis\n",
        "plt.ylabel('F1 score') # Label y-axis\n",
        "plt.legend() # Show plot labels as legend\n",
        "plt.show() # Show graph"
      ]
    },
    {
      "cell_type": "markdown",
      "metadata": {
        "id": "0EcTcxplHa5s"
      },
      "source": [
        "The **AUC** (Area Under the Curve) is a metric commonly used to evaluate the performance of a binary classification model. The curve referred to is the ROC (Receiver Operating Characteristic) curve, which represents the relationship between the True Positive Rate (TPR) and False Positive Rate (FPR) as the classification threshold changes.\n",
        "\n",
        "The AUC represents the area subtended by the ROC curve and is an indicator of the predictive ability of the model. It takes values between 0 and 1, where a value of 1 indicates perfect classification and a value of 0.5 indicates random classification.\n",
        "\n",
        "In essence, an AUC closer to 1 indicates that the model is able to discriminate accurately between positive and negative classes, while a value closer to 0.5 indicates that the model has a performance similar to random chance.\n",
        "\n",
        "In general, a high AUC is an indicator of a good classification model, while a low AUC suggests that the model has difficulty distinguishing classes correctly."
      ]
    },
    {
      "cell_type": "code",
      "execution_count": null,
      "metadata": {
        "colab": {
          "base_uri": "https://localhost:8080/",
          "height": 449
        },
        "id": "Naws8beN0e1L",
        "outputId": "c512db91-5488-40dc-ddb2-a00bdc10b41a"
      },
      "outputs": [
        {
          "data": {
            "image/png": "[encoded data removed]",
            "text/plain": [
              "<Figure size 640x480 with 1 Axes>"
            ]
          },
          "metadata": {},
          "output_type": "display_data"
        }
      ],
      "source": [
        "plt.plot(x, auc, label='AUC score su validation-set')\n",
        "plt.xlabel('Maximum Depth') # Label x-axis\n",
        "plt.ylabel('AUC score') # Label y-axis\n",
        "plt.legend() # Show plot labels as legend\n",
        "plt.show() # Show graph"
      ]
    },
    {
      "cell_type": "markdown",
      "metadata": {
        "id": "HRBR6_OOIvdg"
      },
      "source": [
        "After evaluating the results on the validation set prediction, we choose the best hyperparameter, in this case ***max_depth = 7***"
      ]
    },
    {
      "cell_type": "code",
      "execution_count": null,
      "metadata": {
        "colab": {
          "base_uri": "https://localhost:8080/"
        },
        "id": "Rp_5wyHn59IN",
        "outputId": "1ff342ae-670f-45e5-9564-298e8b6b2203"
      },
      "outputs": [
        {
          "output_type": "stream",
          "name": "stdout",
          "text": [
            "Accuracy =  0.6440913103796191\n",
            "F1 score =  0.6706349206349206\n",
            "AUC score =  0.6416011556036418\n"
          ]
        }
      ],
      "source": [
        "# Creating the classifier based on a decision tree with a maximum depth of 7\n",
        "classifier = DecisionTreeClassifier(max_depth=7)\n",
        "\n",
        "# Training the classifier on the training set\n",
        "classifier.fit(dataset_train)\n",
        "\n",
        "# Classifying articles in the test set\n",
        "y_pred = classifier.predict(x_test)\n",
        "\n",
        "# Calculating the classification accuracy\n",
        "print(\"Accuracy = \", metrics.accuracy_score(y_test, y_pred))\n",
        "\n",
        "# Calculating the F1 score of the classification\n",
        "print(\"F1 score = \", metrics.f1_score(y_test, y_pred))\n",
        "\n",
        "# Calculating the AUC (Area Under the ROC Curve) score of the classification\n",
        "print(\"AUC score = \", metrics.roc_auc_score(y_test, y_pred))"
      ]
    },
    {
      "cell_type": "markdown",
      "metadata": {
        "id": "fBalVrmv9Bn3"
      },
      "source": [
        "------------------------------------------------------------------------------------------ **Sklearn testing**   ------------------------------------------------------------------------------------------\n",
        "\n"
      ]
    },
    {
      "cell_type": "code",
      "execution_count": null,
      "metadata": {
        "colab": {
          "base_uri": "https://localhost:8080/"
        },
        "id": "2tC42lEc89eX",
        "outputId": "e6efe3da-3054-4ba4-e378-ba6b24f5a7ad"
      },
      "outputs": [
        {
          "output_type": "stream",
          "name": "stdout",
          "text": [
            "Accuracy =  0.6427039979820911\n",
            "F1 score =  0.666274001649193\n",
            "AUC score =  0.6409153516495744\n"
          ]
        }
      ],
      "source": [
        "from sklearn.tree import DecisionTreeClassifier\n",
        "\n",
        "clf = DecisionTreeClassifier(criterion='entropy',max_depth=7)\n",
        "clf.fit(x_train, y_train)\n",
        "y_pred = clf.predict(x_test)\n",
        "print(\"Accuracy = \", metrics.accuracy_score(y_test, y_pred))\n",
        "print(\"F1 score = \", metrics.f1_score(y_test, y_pred))\n",
        "print(\"AUC score = \", metrics.roc_auc_score(y_test, y_pred))"
      ]
    },
    {
      "cell_type": "markdown",
      "metadata": {
        "id": "Khf34zFk6Xho"
      },
      "source": [
        "\n",
        "\n",
        "#  Linear Regression\n",
        "\n"
      ]
    },
    {
      "cell_type": "markdown",
      "metadata": {
        "id": "km8XaA9WbEb3"
      },
      "source": [
        "A univariate linear function (a straight line) with input x and output y has the form:\n",
        "\n",
        "$$\n",
        "y = w_1x + w_0\n",
        "$$\n",
        "\n",
        "where $w_0$ and $w_1$ are real-valued coefficients to be learned.  We use the letter $w$ because.\n",
        "we think of coefficients as weights (**weights** ); the value of y is changed by changing the relative weight of one term or another.\n",
        "We define w as the vector $w = [w_1, w_0]$, and we define\n",
        "\n",
        "$$\n",
        "h_w(x) = w_0 + w_1x = \\begin{pmatrix} w_0 \\\\ w_1 \\end{pmatrix}  \\cdot \\begin{pmatrix} 1 \\\\ x \\end{pmatrix}\n",
        "$$\n",
        "\n",
        "The task of finding the $h_w$ that best fits these data is called **linear regression**. To fit a straight line to the data, all we\n",
        "we need to do is find the values of the weights $[w_0, w_1]$ that minimize the empirical loss.\n",
        "\n",
        "In this case, since we are trying to minimize the loss, we will use gradient descent. We choose any starting point in the space of the weights (in this case, a point in the plane $(w_0, w_1)$) and then move to a nearby point that is descending, repeating the operation until we converge on the minimum possible loss:\n",
        "\n",
        "![Immagine 2023-10-27 172019.png](data:image/png;base64,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)\n",
        "\n",
        "The parameter $α$ is usually called the learning rate when trying to minimize the loss in a learning problem.\n",
        "For univariate regression, the loss function $L_2$ (loss by quadratic error) is a quadratic function, so the partial derivative will be a linear function.\n",
        "\n",
        "Partial derivatives in the simplified case of a single training example, $(x, y)$:\n",
        "\n",
        "$$\n",
        "w_0 ← w_0 + α (y − h_w(x)) ;\\qquad w_1 ← w_1 + α (y − h_w(x)) \\times x\n",
        "$$\n",
        "\n",
        "For N training examples, we want to minimize the sum of individual losses for each example. The derivative of a sum is the sum of the derivatives, so we have:\n",
        "\n",
        "$$\n",
        "w_0 ← w_0 + α\\sum_j (y_j − h_w(x_j)) ;\\qquad w_1 ← w_1 + α \\sum_j(y_j − h_w(x_j)) \\times x_j\n",
        "$$\n",
        "\n",
        "It can be easily extended to multivariate linear regression problems, where each example $x_j$ is a vector of n elements. Our hypothesis space is the set of functions of the form\n",
        "\n",
        "$$\n",
        "h_{sw}(x_j) = w_0 + w_{1}x_{j,1} + \\dots + w_{n}x_{j,n}= w\\cdot x_{j} = \\begin{pmatrix} w_0  \\\\ w_1 \\\\ \\vdots \\\\ w_n \\end{pmatrix} \\cdot \\begin{pmatrix} 1  \\\\  x_{j,1} \\\\ \\vdots \\\\\\ x_{j,n}\\end{pmatrix}\n",
        "$$\n",
        "\n",
        "In this case, the updating equation for each weight $w_i$ is\n",
        "\n",
        "$$\n",
        "w_{i} ← w_{i} + α \\sum_{j} x_{j,i}(y_{j} − h_{w}(x_{j}))\n",
        "$$"
      ]
    },
    {
      "cell_type": "code",
      "execution_count": null,
      "metadata": {
        "id": "6LHSM03Mr0PI"
      },
      "outputs": [],
      "source": [
        "# Creating a copy of the original dataframe\n",
        "data_linear_regression = df.copy()\n",
        "\n",
        "# Adding a column of 1s in the first position for linear regression algorithm usage\n",
        "data_linear_regression.insert(0, 'Ones', 1)\n",
        "\n",
        "# Separating input features (x) from the output variable (y)\n",
        "x, y = data_linear_regression.iloc[:, :58].values, data_linear_regression['shares'].values\n",
        "\n",
        "# Splitting the dataset into training and test sets\n",
        "x_train, x_test, y_train, y_test = train_test_split(x, y, test_size=0.2, random_state=1)\n",
        "\n",
        "# Normalizing input features using MinMaxScaler\n",
        "sx = preprocessing.MinMaxScaler()\n",
        "scaled_X_train = sx.fit_transform(x_train)\n",
        "scaled_X_test = sx.transform(x_test)"
      ]
    },
    {
      "cell_type": "code",
      "execution_count": null,
      "metadata": {
        "id": "VcoEOzEt5pwl"
      },
      "outputs": [],
      "source": [
        "# Definition of a class representing zero regularization, which means it does not apply any penalty on the weights\n",
        "class no_regularization:\n",
        "    def __call__(self, weights):\n",
        "        return 0\n",
        "\n",
        "    def derivation(self, weights):\n",
        "        return 0\n",
        "\n",
        "# Definition of the class for the linear regression algorithm\n",
        "class Linear_Regression:\n",
        "\n",
        "  def __init__(self, learning_rate=0.0001, epochs=4000, regularization=no_regularization()):\n",
        "    self.total_samples = None\n",
        "    self.number_of_features = None\n",
        "    self.w = None\n",
        "    self.learning_rate = learning_rate\n",
        "    self.epochs = epochs\n",
        "    self.regularization = regularization\n",
        "\n",
        "  def fit(self, X, y):\n",
        "    self.total_samples = X.shape[0]\n",
        "    self.number_of_features = X.shape[1]\n",
        "\n",
        "    self.w = np.zeros(self.number_of_features)\n",
        "\n",
        "    for it in range(self.epochs):\n",
        "      # Calculate the matrix product between X and weights\n",
        "      h = np.dot(X, self.w)\n",
        "\n",
        "      # Calculate the gradient of weights, considering regularization\n",
        "      w_grad = 1 / (2 * self.total_samples) * np.dot(X.T, (y - h)) + self.regularization.derivation(self.w)\n",
        "\n",
        "      # Update the weights\n",
        "      self.w = self.w + self.learning_rate * w_grad\n",
        "\n",
        "  def predict(self, X):\n",
        "      return np.dot(X, self.w)"
      ]
    },
    {
      "cell_type": "code",
      "execution_count": null,
      "metadata": {
        "colab": {
          "base_uri": "https://localhost:8080/"
        },
        "id": "OTDNIhDpAWuf",
        "outputId": "7543e8d4-53f7-4c13-c9cc-59841e3ca503"
      },
      "outputs": [
        {
          "name": "stdout",
          "output_type": "stream",
          "text": [
            "Root Mean Squared Error = 8427.779612738696\n"
          ]
        }
      ],
      "source": [
        "# Creating an instance of the LinearRegression class\n",
        "lin = Linear_Regression()\n",
        "\n",
        "# Training the model on the scaled feature matrix and the scaled target vector\n",
        "lin.fit(scaled_X_train, y_train)\n",
        "\n",
        "# Getting model predictions on the test set\n",
        "y_pred = lin.predict(scaled_X_test)\n",
        "\n",
        "# Calculating the Root Mean Squared Error (RMSE) between predictions and the target vector\n",
        "rmse = mean_squared_error(y_test, y_pred, squared=False)\n",
        "\n",
        "# Printing the RMSE result\n",
        "print(\"Root Mean Squared Error = \" + str(rmse))"
      ]
    },
    {
      "cell_type": "markdown",
      "metadata": {
        "id": "elEb9f3J-jWS"
      },
      "source": [
        "------------------------------------------------------------------------------------------ **Sklearn testing**   ------------------------------------------------------------------------------------------\n",
        "\n"
      ]
    },
    {
      "cell_type": "code",
      "execution_count": null,
      "metadata": {
        "colab": {
          "base_uri": "https://localhost:8080/"
        },
        "id": "y_lI4J4P-kYK",
        "outputId": "b725755a-3fe1-436b-d8a1-49feb1abfb3a"
      },
      "outputs": [
        {
          "output_type": "stream",
          "name": "stdout",
          "text": [
            "Root Mean Squared Error = 8262.090451251968\n"
          ]
        }
      ],
      "source": [
        "from sklearn.linear_model import LinearRegression\n",
        "lin_reg = LinearRegression()\n",
        "lin_reg.fit(scaled_X_train, y_train)\n",
        "y_pred = lin_reg.predict(scaled_X_test)\n",
        "rmse = mean_squared_error(y_test, y_pred, squared=False)\n",
        "print(\"Root Mean Squared Error = \" + str(rmse))"
      ]
    },
    {
      "cell_type": "markdown",
      "metadata": {
        "id": "jxz5q3_bSv4d"
      },
      "source": [
        "\n",
        "\n",
        "#  Lasso regression - L1 Regularization\n",
        "\n",
        "\n"
      ]
    },
    {
      "cell_type": "markdown",
      "metadata": {
        "id": "GxzoVYU3WjAe"
      },
      "source": [
        "Regularization is a technique used to counteract the problem of overfitting, a situation that occurs when the network memorizes features of the training set rather than learning from them.\n",
        "\n",
        "Overfitting is characterized by:\n",
        "\n",
        "* **High variance**: predictions for models trained with different parts of the dataset will be very different from each other.\n",
        "* **Low bias**: the error for predictions on the training set is very low on average.\n",
        "\n",
        "Recall that with regularization we minimize the total cost of a hypothesis, counting both the empirical loss and the complexity of the hypothesis:\n",
        "$$\n",
        "Cost(h) = EmpLoss(h) + \\lambda\\ Complexity(h)\n",
        "$$\n",
        "\n",
        "For linear functions, complexity can be specified as a function of weights. We can consider a family of regularization functions:\n",
        "\n",
        "$$\n",
        "Complexity(h_w)=L_q(w)= \\sum_i |w_i|^q\n",
        "$$\n",
        "\n",
        "With $q = 1$ we have the **regularization $L_1$**, which minimizes the sum of the absolute values\n",
        "\n",
        "$$\n",
        "L_1(w) = \\sum_i |w_i|\n",
        "$$"
      ]
    },
    {
      "cell_type": "code",
      "execution_count": null,
      "metadata": {
        "id": "f6gTI92gg7Zb"
      },
      "outputs": [],
      "source": [
        "class l1_regularization:\n",
        "    def __init__(self, lamda):\n",
        "        self.lamda = lamda\n",
        "\n",
        "    def __call__(self, weights):\n",
        "        return self.lamda * np.sum(np.abs(weights))\n",
        "\n",
        "    def derivation(self, weights):\n",
        "        return self.lamda * np.sign(weights)"
      ]
    },
    {
      "cell_type": "code",
      "execution_count": null,
      "metadata": {
        "colab": {
          "base_uri": "https://localhost:8080/"
        },
        "id": "VL6EY_r3hA1r",
        "outputId": "38d45f9b-3702-4fc5-a1e1-cf9a99888b68"
      },
      "outputs": [
        {
          "name": "stdout",
          "output_type": "stream",
          "text": [
            "Root Mean Squared Error = 8427.519798724841\n"
          ]
        }
      ],
      "source": [
        "# Creating an instance of the LinearRegression class with L1 regularization\n",
        "lin = Linear_Regression(regularization=l1_regularization(1.0))\n",
        "\n",
        "# Training the model on the scaled feature matrix and the scaled target vector\n",
        "lin.fit(scaled_X_train, y_train)\n",
        "\n",
        "# Getting model predictions on the test set\n",
        "y_pred = lin.predict(scaled_X_test)\n",
        "\n",
        "# Calculating the Root Mean Squared Error (RMSE) between predictions and the target vector\n",
        "rmse = mean_squared_error(y_test, y_pred, squared=False)\n",
        "\n",
        "# Printing the RMSE result\n",
        "print(\"Root Mean Squared Error = \" + str(rmse))"
      ]
    },
    {
      "cell_type": "markdown",
      "metadata": {
        "id": "2aE4mUqIZ260"
      },
      "source": [
        "------------------------------------------------------------------------------------------ **Sklearn testing**   ------------------------------------------------------------------------------------------\n",
        "\n"
      ]
    },
    {
      "cell_type": "code",
      "execution_count": null,
      "metadata": {
        "colab": {
          "base_uri": "https://localhost:8080/"
        },
        "id": "hy7fV09gZ10n",
        "outputId": "f46583a4-6282-4b71-de8e-46a622f92313"
      },
      "outputs": [
        {
          "name": "stdout",
          "output_type": "stream",
          "text": [
            "Root Mean Squared Error = 8259.457807042012\n"
          ]
        }
      ],
      "source": [
        "from sklearn import linear_model\n",
        "clf = linear_model.Lasso(alpha=1.0)\n",
        "clf.fit(scaled_X_train, y_train)\n",
        "y_pred = clf.predict(scaled_X_test)\n",
        "rmse = mean_squared_error(y_test, y_pred, squared=False)\n",
        "print(\"Root Mean Squared Error = \" + str(rmse))"
      ]
    },
    {
      "cell_type": "markdown",
      "metadata": {
        "id": "y6L_bKN9S8LA"
      },
      "source": [
        "#  Ridge Regression - L2 Regularization\n",
        "\n",
        "\n"
      ]
    },
    {
      "cell_type": "markdown",
      "metadata": {
        "id": "XVB95y17YZkC"
      },
      "source": [
        "With $q = 2$ we have a **regularization $L_2$**, which minimizes the sum of squares.\n",
        "In the case of Ridge Regression, this measure is the ℓ₂-norm of our coefficients (feature weights).\n",
        "\n",
        "$$\n",
        "L_2(w) = \\sum_i w_i^2\n",
        "$$\n"
      ]
    },
    {
      "cell_type": "code",
      "execution_count": null,
      "metadata": {
        "id": "-2fi2PG5TWDv"
      },
      "outputs": [],
      "source": [
        "class l2_regularization:\n",
        "    def __init__(self, lamda):\n",
        "        self.lamda = lamda\n",
        "\n",
        "    def __call__(self, weights):\n",
        "        return self.lamda * np.sum(np.square(weights))\n",
        "\n",
        "    def derivation(self, weights):\n",
        "        return self.lamda * 2 * (weights)"
      ]
    },
    {
      "cell_type": "code",
      "execution_count": null,
      "metadata": {
        "colab": {
          "base_uri": "https://localhost:8080/"
        },
        "id": "Z9Je1Y8mTe2i",
        "outputId": "b4811135-4d0f-4db0-8be5-51e5156a6985"
      },
      "outputs": [
        {
          "name": "stdout",
          "output_type": "stream",
          "text": [
            "Root Mean Squared Error = 8401.850017295592\n"
          ]
        }
      ],
      "source": [
        "# Creating an instance of the LinearRegression class with L2 regularization\n",
        "lin = Linear_Regression(regularization=l2_regularization(1.0))\n",
        "\n",
        "# Training the model on the scaled feature matrix and the scaled target vector\n",
        "lin.fit(scaled_X_train, y_train)\n",
        "\n",
        "# Getting model predictions on the test set\n",
        "y_pred = lin.predict(scaled_X_test)\n",
        "\n",
        "# Calculating the Root Mean Squared Error (RMSE) between predictions and the target vector\n",
        "rmse = mean_squared_error(y_test, y_pred, squared=False)\n",
        "\n",
        "# Printing the RMSE result\n",
        "print(\"Root Mean Squared Error = \" + str(rmse))"
      ]
    },
    {
      "cell_type": "markdown",
      "metadata": {
        "id": "OLXhC-S4d_pt"
      },
      "source": [
        "------------------------------------------------------------------------------------------ **Sklearn testing**   ------------------------------------------------------------------------------------------\n"
      ]
    },
    {
      "cell_type": "code",
      "execution_count": null,
      "metadata": {
        "colab": {
          "base_uri": "https://localhost:8080/"
        },
        "id": "24_RFd-2eAci",
        "outputId": "a64c405d-6501-4dc2-d35a-87aff0df5bd3"
      },
      "outputs": [
        {
          "name": "stdout",
          "output_type": "stream",
          "text": [
            "Root Mean Squared Error = 8270.801414831665\n"
          ]
        }
      ],
      "source": [
        "from sklearn.linear_model import Ridge\n",
        "clf = Ridge(alpha=1.0)\n",
        "clf.fit(scaled_X_train, y_train)\n",
        "y_pred = clf.predict(scaled_X_test)\n",
        "rmse = mean_squared_error(y_test, y_pred, squared=False)\n",
        "print(\"Root Mean Squared Error = \" + str(rmse))"
      ]
    },
    {
      "cell_type": "markdown",
      "metadata": {
        "id": "MIWoUpMaTDbQ"
      },
      "source": [
        "#  Elastic Net\n",
        "\n",
        "\n"
      ]
    },
    {
      "cell_type": "markdown",
      "metadata": {
        "id": "ko4wPxS-WUW_"
      },
      "source": [
        "Elastic Net regularization combines Lasso and Ridge regularization:\n",
        "$$\n",
        "L_{elastic} = λ_1 L_1(w) + λ_2 L_2(w)\n",
        "$$"
      ]
    },
    {
      "cell_type": "code",
      "execution_count": null,
      "metadata": {
        "id": "2U5YfPPmTGvk"
      },
      "outputs": [],
      "source": [
        "class elastic_net_regularization:\n",
        "    def __init__(self, lamda_1, lamda_2):\n",
        "        self.lamda_1 = lamda_1\n",
        "        self.lamda_2 = lamda_2\n",
        "\n",
        "    def __call__(self, weights):\n",
        "        return  self.lamda_1 * np.sum(np.abs(weights)) + self.lamda_2 * np.sum(np.square(weights))\n",
        "\n",
        "    def derivation(self, weights):\n",
        "        return  self.lamda_1 * np.sign(weights) + self.lamda_2 * 2 * (weights)"
      ]
    },
    {
      "cell_type": "code",
      "execution_count": null,
      "metadata": {
        "colab": {
          "base_uri": "https://localhost:8080/"
        },
        "id": "2_ID0OeLVviP",
        "outputId": "99fe3450-f3d5-4b3b-ff42-eb2538fe0c35"
      },
      "outputs": [
        {
          "name": "stdout",
          "output_type": "stream",
          "text": [
            "Root Mean Squared Error = 8401.117303098476\n"
          ]
        }
      ],
      "source": [
        "# Creating an instance of the LinearRegression class with Elastic Net regularization\n",
        "lin = Linear_Regression(regularization=elastic_net_regularization(0.5, 0.5))\n",
        "\n",
        "# Training the model on the scaled feature matrix and the scaled target vector\n",
        "lin.fit(scaled_X_train, y_train)\n",
        "\n",
        "# Getting model predictions on the test set\n",
        "y_pred = lin.predict(scaled_X_test)\n",
        "\n",
        "# Calculating the Root Mean Squared Error (RMSE) between predictions and the target vector\n",
        "rmse = mean_squared_error(y_test, y_pred, squared=False)\n",
        "\n",
        "# Printing the RMSE result\n",
        "print(\"Root Mean Squared Error = \" + str(rmse))"
      ]
    },
    {
      "cell_type": "markdown",
      "metadata": {
        "id": "kY0DX0Hke3VQ"
      },
      "source": [
        "------------------------------------------------------------------------------------------ **Sklearn testing**   ------------------------------------------------------------------------------------------\n"
      ]
    },
    {
      "cell_type": "code",
      "execution_count": null,
      "metadata": {
        "colab": {
          "base_uri": "https://localhost:8080/"
        },
        "id": "LMlMkQ3ae4Tb",
        "outputId": "5fce2796-703b-4afa-89d2-55ded347a702"
      },
      "outputs": [
        {
          "name": "stdout",
          "output_type": "stream",
          "text": [
            "Root Mean Squared Error = 8366.92067963475\n"
          ]
        }
      ],
      "source": [
        "from sklearn.linear_model import ElasticNet\n",
        "regr = ElasticNet()\n",
        "regr.fit(scaled_X_train, y_train)\n",
        "y_pred = regr.predict(scaled_X_test)\n",
        "rmse = mean_squared_error(y_test, y_pred, squared=False)\n",
        "print(\"Root Mean Squared Error = \" + str(rmse))"
      ]
    },
    {
      "cell_type": "markdown",
      "metadata": {
        "id": "cyLeFxlnXIkC"
      },
      "source": [
        "# Linear regression - Classification with threshold function\n"
      ]
    },
    {
      "cell_type": "markdown",
      "metadata": {
        "id": "XjABVj_71z-6"
      },
      "source": [
        "Linear regression with a threshold function combines linear regression with a threshold function to transform the model output values into a binary prediction. The goal is to find the best straight line that separates the data into two binary classes (0 or 1). For example, a simple threshold function such as:\n",
        "\n",
        "$$\n",
        "h_w(x) = Threshold(w \\cdot x)\\ \\ where\\ \\ Threshold(z) = 1 \\ \\ if \\ \\ z \\geq 0\\ \\ and\\ \\ 0\\ \\ otherwise\n",
        "$$"
      ]
    },
    {
      "cell_type": "code",
      "execution_count": null,
      "metadata": {
        "id": "XMtXzdZtXWwA"
      },
      "outputs": [],
      "source": [
        "# Creating a copy of the original dataframe\n",
        "data_linear_classification = df.copy()\n",
        "\n",
        "# Adding a column of 1s in the first position for linear regression algorithm usage\n",
        "data_linear_classification.insert(0, 'Ones', 1)\n",
        "\n",
        "# Adding a new column 'class' indicating whether an article has received more than 1400 shares\n",
        "# The value 1 indicates that the article received more than 1400 shares, while 0 indicates it received fewer.\n",
        "data_linear_classification['class'] = np.where(data_linear_classification['shares'] >= 1400, 1, 0)\n",
        "\n",
        "# Removing the 'shares' column as it will not be used as an input feature\n",
        "data_linear_classification = data_linear_classification.drop('shares', axis=1)\n",
        "\n",
        "# Separating input features (x) from the output class (y)\n",
        "x, y = data_linear_classification.iloc[:, :58], data_linear_classification['class']\n",
        "\n",
        "# Splitting the dataset into training and test sets\n",
        "x_train, x_test, y_train, y_test = train_test_split(x, y, test_size=0.2, random_state=1)\n",
        "\n",
        "# Normalizing input features using MinMaxScaler\n",
        "sx = preprocessing.MinMaxScaler()\n",
        "scaled_X_train = sx.fit_transform(x_train)\n",
        "scaled_X_test = sx.transform(x_test)"
      ]
    },
    {
      "cell_type": "code",
      "execution_count": null,
      "metadata": {
        "id": "zt_9sKDDaOXP"
      },
      "outputs": [],
      "source": [
        "# Definition of the threshold function\n",
        "def threshold_function(z):\n",
        "    return np.where(z >= 0, 1, 0)\n",
        "\n",
        "class LinearRegression_classification:\n",
        "\n",
        "  def __init__(self, learning_rate=0.0001, epochs=300):\n",
        "    self.total_samples = None\n",
        "    self.number_of_features = None\n",
        "    self.w = None\n",
        "    self.learning_rate = learning_rate\n",
        "    self.epochs = epochs\n",
        "\n",
        "  def fit(self, X, y):\n",
        "    self.total_samples, self.number_of features = X.shape\n",
        "\n",
        "    self.w = np.zeros(self.number_of_features)      # Initialize the weight vector to 0\n",
        "\n",
        "    for it in range(self.epochs):\n",
        "      # Calculate the matrix product between X and the weights\n",
        "      z = X @ self.w\n",
        "\n",
        "      # Apply the threshold function\n",
        "      h = threshold_function(z)\n",
        "\n",
        "      # Calculate the weight gradient\n",
        "      w_grad = (1 / self.total_samples) * X.T @ (h - y)\n",
        "\n",
        "      # Update the weights\n",
        "      self.w = self.w - self.learning_rate * w_grad\n",
        "\n",
        "  def predict(self, X):\n",
        "      # Calculate the matrix product between X and the weights\n",
        "      z = X @ self.w\n",
        "      return threshold_function(z)                  # Apply the threshold function"
      ]
    },
    {
      "cell_type": "code",
      "execution_count": null,
      "metadata": {
        "colab": {
          "base_uri": "https://localhost:8080/"
        },
        "id": "-wjI2f1camY-",
        "outputId": "528c9f73-90db-482d-ed50-3b411eaa2900"
      },
      "outputs": [
        {
          "output_type": "stream",
          "name": "stdout",
          "text": [
            "Accuracy = 0.6066338756463615\n",
            "F1 score =  0.566021984138027\n",
            "AUC score =  0.6163403582678222\n"
          ]
        }
      ],
      "source": [
        "# Creating an instance of the LinearRegression_classification class with the Threshold function\n",
        "lin = LinearRegression_classification()\n",
        "\n",
        "# Training the model on the scaled feature matrix and the target vector\n",
        "lin.fit(scaled_X_train, y_train)\n",
        "\n",
        "# Getting model predictions on the test set\n",
        "y_pred = lin.predict(scaled_X_test)\n",
        "\n",
        "# Calculating the classification accuracy\n",
        "print(\"Accuracy =\", metrics.accuracy_score(y_test, y_pred))\n",
        "\n",
        "# Calculating the F1 score of the classification\n",
        "print(\"F1 score = \", metrics.f1_score(y_test, y_pred))\n",
        "\n",
        "# Calculating the AUC (Area Under the ROC Curve) score of the classification\n",
        "print(\"AUC score = \", metrics.roc_auc_score(y_test, y_pred))"
      ]
    },
    {
      "cell_type": "markdown",
      "metadata": {
        "id": "yxsBqX399h__"
      },
      "source": [
        "# Logistic regression - Classification\n"
      ]
    },
    {
      "cell_type": "markdown",
      "metadata": {
        "id": "wqJPMFst3Bfz"
      },
      "source": [
        "In Logistic Regression, the threshold function is replaced by the sigmoid function:\n",
        "$$\n",
        "h_w(x) = Sigmoid(w \\cdot x) = \\dfrac{1}{1+e^{-w \\cdot x}}\n",
        "$$\n"
      ]
    },
    {
      "cell_type": "code",
      "execution_count": null,
      "metadata": {
        "id": "0_7Z1nDM_Dm0"
      },
      "outputs": [],
      "source": [
        "# Separating input features (x) from the output class (y)\n",
        "x, y = data_linear_classification.iloc[:, :58], data_linear_classification['class']\n",
        "\n",
        "# Splitting the dataset into training and test sets\n",
        "x_train, x_test, y_train, y_test = train_test_split(x, y, test_size=0.2, random_state=1)\n",
        "\n",
        "# Normalizing input features using MinMaxScaler\n",
        "sx = preprocessing.MinMaxScaler()\n",
        "scaled_X_train = sx.fit_transform(x_train)\n",
        "scaled_X_test = sx.transform(x_test)"
      ]
    },
    {
      "cell_type": "code",
      "execution_count": null,
      "metadata": {
        "id": "OO18ZlOY-EfZ"
      },
      "outputs": [],
      "source": [
        "# Definition of the sigmoid function\n",
        "def sigmoid(z):\n",
        "  return 1 / (1 + np.exp(-z))\n",
        "\n",
        "class LogisticRegression:\n",
        "\n",
        "  def __init__(self, learning_rate=0.05, epochs=4000):\n",
        "    self.total_samples = None\n",
        "    self.number_of_features = None\n",
        "    self.w = None\n",
        "    self.learning_rate = learning_rate\n",
        "    self.epochs = epochs\n",
        "\n",
        "  def fit(self, X, y):\n",
        "    self.total_samples, self.number_of_features = X.shape\n",
        "    self.w = np.zeros(self.number_of_features)                # Initialize the weight vector to 0\n",
        "\n",
        "    for it in range(self.epochs):\n",
        "      # Calculate the matrix product between X and the weights\n",
        "      z = X @ self.w\n",
        "\n",
        "      # Apply the sigmoid function\n",
        "      h = sigmoid(z)\n",
        "\n",
        "      # Calculate the weight gradient\n",
        "      w_grad = (1 / self.total_samples ) * X.T @ (h - y)\n",
        "\n",
        "      # Update the weights\n",
        "      self.w = self.w - self.learning_rate * w_grad\n",
        "\n",
        "  def predict(self, X):\n",
        "      # Calculate the matrix product between X and the weights\n",
        "      linear_pred = X @ self.w\n",
        "\n",
        "      # Apply the sigmoid function\n",
        "      y_pred = sigmoid(linear_pred)\n",
        "\n",
        "      # Discretize the values\n",
        "      class_pred = np.where(y_pred >= 0.5, 1, 0)\n",
        "\n",
        "      return class_pred"
      ]
    },
    {
      "cell_type": "code",
      "execution_count": null,
      "metadata": {
        "colab": {
          "base_uri": "https://localhost:8080/"
        },
        "id": "fLBIp5jG_ItY",
        "outputId": "e6398e63-f43f-4382-9a7b-5e2c98a6a042"
      },
      "outputs": [
        {
          "output_type": "stream",
          "name": "stdout",
          "text": [
            "Accuracy = 0.6401816118047673\n",
            "F1 score =  0.6795462203751544\n",
            "AUC score =  0.6346674378364277\n"
          ]
        }
      ],
      "source": [
        "# Creating an instance of the LogisticRegression class with the sigmoid function\n",
        "log = LogisticRegression()\n",
        "\n",
        "# Training the model on the scaled feature matrix and the target vector\n",
        "log.fit(scaled_X_train, y_train)\n",
        "\n",
        "# Getting model predictions on the test set\n",
        "y_pred = log.predict(scaled_X_test)\n",
        "\n",
        "# Calculating the classification accuracy\n",
        "print(\"Accuracy =\", metrics.accuracy_score(y_test, y_pred))\n",
        "\n",
        "# Calculating the F1 score of the classification\n",
        "print(\"F1 score = \", metrics.f1_score(y_test, y_pred))\n",
        "\n",
        "# Calculating the AUC (Area Under the ROC Curve) score of the classification\n",
        "print(\"AUC score = \", metrics.roc_auc_score(y_test, y_pred))"
      ]
    },
    {
      "cell_type": "markdown",
      "metadata": {
        "id": "XsCf0HEJfuqN"
      },
      "source": [
        "------------------------------------------------------------------------------------------ **Sklearn testing**   ------------------------------------------------------------------------------------------\n"
      ]
    },
    {
      "cell_type": "code",
      "execution_count": null,
      "metadata": {
        "colab": {
          "base_uri": "https://localhost:8080/"
        },
        "id": "6YhinFhafvNt",
        "outputId": "1fb3f91c-a59e-4bf5-e3e0-9b30b08ccc26"
      },
      "outputs": [
        {
          "output_type": "stream",
          "name": "stdout",
          "text": [
            "Accuracy = 0.6415689242022954\n",
            "F1 score =  0.6740077999541179\n",
            "AUC score =  0.6377208480565371\n"
          ]
        }
      ],
      "source": [
        "from sklearn.linear_model import LogisticRegression\n",
        "clf = LogisticRegression(max_iter=300)\n",
        "clf.fit(scaled_X_train, y_train)\n",
        "y_pred = clf.predict(scaled_X_test)\n",
        "print(\"Accuracy =\",metrics.accuracy_score(y_test, y_pred))\n",
        "print(\"F1 score = \", metrics.f1_score(y_test, y_pred))\n",
        "print(\"AUC score = \", metrics.roc_auc_score(y_test, y_pred))"
      ]
    },
    {
      "cell_type": "markdown",
      "metadata": {
        "id": "_D6fj1X2SWr9"
      },
      "source": [
        "# K-nearest neighbors algorithm - Regression\n"
      ]
    },
    {
      "cell_type": "markdown",
      "metadata": {
        "id": "jbSKI-XkSS2A"
      },
      "source": [
        "The **K-nearest neighbors** algorithm, also known as **KNN**, is a nonparametric supervised learning classifier that uses proximity to make classifications or predictions about the clustering of a single data point. For regression problems, the label value is assigned based on the average of the k nearest neighbors.\n",
        "\n",
        "![Immagine 2023-05-15 210818.png](data:image/png;base64,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)\n",
        "\n",
        "Fig: Average of the 3 nearest neighbors"
      ]
    },
    {
      "cell_type": "code",
      "execution_count": null,
      "metadata": {
        "id": "mX465GZUvtLo"
      },
      "outputs": [],
      "source": [
        "# Creating a copy of the original dataframe\n",
        "data_knn_regression = df.copy()\n",
        "\n",
        "# Separating input features (x) from the output class (y)\n",
        "x, y = data_knn_regression.iloc[:, :58].values, data_knn_regression['shares'].values\n",
        "\n",
        "# Splitting the dataset into training and test sets\n",
        "x_train, x_test, y_train, y_test = train_test_split(x, y, test_size=0.2, random_state=1)\n",
        "\n",
        "# Splitting the dataset into training and validation sets\n",
        "x_train, x_valid, y_train, y_valid = train_test_split(x_train, y_train, test_size=0.2, random_state=1)"
      ]
    },
    {
      "cell_type": "code",
      "execution_count": null,
      "metadata": {
        "id": "_wfIdXaZr19h"
      },
      "outputs": [],
      "source": [
        "# KNN Regression class\n",
        "class KNN_regression:\n",
        "  def __init__(self, k=3):\n",
        "    self.k = k\n",
        "\n",
        "  # The fit() method stores the training data X and y\n",
        "  def fit(self, X, y):\n",
        "    self.X_train = X\n",
        "    self.y_train = y\n",
        "\n",
        "  # The predict() method calls the private _predict() method for each point in X and returns the list of predictions\n",
        "  def predict(self, X):\n",
        "    predictions = [self._predict(x) for x in X]\n",
        "    return predictions\n",
        "\n",
        "  def _predict(self, x):\n",
        "    # Calculate the distance between point x and all points in X_train\n",
        "    distances = cdist([x], self.X_train, metric=\"euclidean\")[0]\n",
        "\n",
        "    # Get the indices of the k-nearest points to x\n",
        "    k_indices = np.argsort(distances)[:self.k]\n",
        "\n",
        "    # Get the labels corresponding to the k-nearest points to x\n",
        "    k_nearest_labels = [self.y_train[i] for i in k_indices]\n",
        "\n",
        "    # Calculate the mean of the labels of the k-nearest points to x\n",
        "    pred = mean(k_nearest_labels)\n",
        "    return pred"
      ]
    },
    {
      "cell_type": "code",
      "execution_count": null,
      "metadata": {
        "colab": {
          "base_uri": "https://localhost:8080/",
          "height": 449
        },
        "id": "HvaDJxjEvkz_",
        "outputId": "ca9280f1-d205-4859-af43-dcfd0fea1cd1"
      },
      "outputs": [
        {
          "data": {
            "image/png": "[encoded data removed]",
            "text/plain": [
              "<Figure size 640x480 with 1 Axes>"
            ]
          },
          "metadata": {},
          "output_type": "display_data"
        }
      ],
      "source": [
        "rmse = []\n",
        "\n",
        "for i in range(1,41):\n",
        "  knn_regr = KNN_regression(k=i)\n",
        "\n",
        "  knn_regr.fit(x_train, y_train)\n",
        "\n",
        "  y_pred = knn_regr.predict(x_valid)\n",
        "\n",
        "  rmse.append(mean_squared_error(y_valid, y_pred, squared=False))\n",
        "\n",
        "x = np.arange(40) + 1\n",
        "plt.plot(x, rmse, label='RMSE')\n",
        "plt.xlabel('n neighbors') # Label x-axis\n",
        "plt.ylabel('RMSE') # Label y-axis\n",
        "plt.legend() # Show plot labels as legend\n",
        "plt.show() # Show graph"
      ]
    },
    {
      "cell_type": "code",
      "execution_count": null,
      "metadata": {
        "colab": {
          "base_uri": "https://localhost:8080/"
        },
        "id": "AyEOPDY6F1Nq",
        "outputId": "1f5eb524-810f-4210-9f37-acdda8b4c601"
      },
      "outputs": [
        {
          "name": "stdout",
          "output_type": "stream",
          "text": [
            "Root Mean Squared Error =  8459.00294083519\n"
          ]
        }
      ],
      "source": [
        "# Creating an instance of the KNN_regression class with the hyperparameter k = 40\n",
        "knn_regr = KNN_regression(k=40)\n",
        "\n",
        "# Training the model on the feature matrix and the target vector\n",
        "knn_regr.fit(x_train, y_train)\n",
        "\n",
        "# Getting model predictions on the test set\n",
        "y_pred = knn_regr.predict(x_test)\n",
        "\n",
        "# Calculating the RMSE (Root Mean Squared Error) between predictions and the target vector\n",
        "print(\"Root Mean Squared Error = \", mean_squared_error(y_test, y_pred, squared=False))"
      ]
    },
    {
      "cell_type": "markdown",
      "metadata": {
        "id": "Luz1j3yxr3OL"
      },
      "source": [
        "------------------------------------------------------------------------------------------ **Sklearn testing**   ------------------------------------------------------------------------------------------\n"
      ]
    },
    {
      "cell_type": "code",
      "execution_count": null,
      "metadata": {
        "colab": {
          "base_uri": "https://localhost:8080/"
        },
        "id": "QcN9E39wSkTy",
        "outputId": "8c6dec73-cee7-4886-9023-134487c1aa17"
      },
      "outputs": [
        {
          "name": "stdout",
          "output_type": "stream",
          "text": [
            "Root Mean Squared Error =  8459.002306283091\n"
          ]
        }
      ],
      "source": [
        "from sklearn.neighbors import KNeighborsRegressor\n",
        "\n",
        "regressor = KNeighborsRegressor(n_neighbors=40)\n",
        "regressor.fit(x_train, y_train)\n",
        "y_pred = regressor.predict(x_test)\n",
        "print(\"Root Mean Squared Error = \", mean_squared_error(y_test, y_pred, squared=False))"
      ]
    },
    {
      "cell_type": "markdown",
      "metadata": {
        "id": "wm_bpbL6Ah0N"
      },
      "source": [
        "# K-nearest neighbors algorithm - Classification"
      ]
    },
    {
      "cell_type": "markdown",
      "metadata": {
        "id": "91-xtaZQ56pi"
      },
      "source": [
        "For classification problems usado KNN, the label of a class is assigned based on a majority vote, that is, the label most frequently represented at a given data point is used.\n",
        "\n",
        "<img src=\"https://miro.medium.com/v2/resize:fit:753/0*jqxx3-dJqFjXD6FA\" width=\"400px\" >\n"
      ]
    },
    {
      "cell_type": "code",
      "execution_count": null,
      "metadata": {
        "id": "qpe9jFdzAnWL"
      },
      "outputs": [],
      "source": [
        "# Creating a copy of the original dataframe\n",
        "data_knn_classification = df.copy()\n",
        "\n",
        "# Adding a new column 'class' that indicates whether an article obtained more than 1400 shares\n",
        "# The value 1 indicates that the article obtained more than 1400 shares, while 0 indicates it obtained fewer\n",
        "data_knn_classification['class'] = np.where(data_knn_classification['shares'] >= 1400, 1, 0)\n",
        "\n",
        "# Dropping the 'shares' column as it will not be used as an input feature\n",
        "data_knn_classification = data_knn_classification.drop('shares', axis=1)\n",
        "\n",
        "# Separating input features (x) from the output class (y)\n",
        "x, y = data_knn_classification.iloc[:, :58].values, data_knn_classification['class'].values\n",
        "\n",
        "# Splitting the dataset into training and test sets\n",
        "x_train, x_test, y_train, y_test = train_test_split(x, y, test_size=0.2, random_state=1)\n",
        "\n",
        "# Splitting the dataset into training and validation sets\n",
        "x_train, x_valid, y_train, y_valid = train_test_split(x_train, y_train, test_size=0.2, random_state=1)"
      ]
    },
    {
      "cell_type": "code",
      "execution_count": null,
      "metadata": {
        "id": "ru0HF6do9zJh"
      },
      "outputs": [],
      "source": [
        "# KNN Classification class\n",
        "class KNN_classification:\n",
        "  def __init__(self, k=3):\n",
        "      self.k = k\n",
        "\n",
        "  # The fit() method stores the training data X and y\n",
        "  def fit(self, X, y):\n",
        "      self.X_train = X\n",
        "      self.y_train = y\n",
        "\n",
        "  # The predict() method calls the private _predict() method for each point in X and returns the list of predictions\n",
        "  def predict(self, X):\n",
        "      predictions = [self._predict(x) for x in X]\n",
        "      return predictions\n",
        "\n",
        "  def _predict(self, x):\n",
        "      # Calculate the distance between point x and all points in X_train\n",
        "      distances = cdist([x], self.X_train, metric=\"euclidean\")[0]\n",
        "\n",
        "      # Get the indices of the k-nearest points to x\n",
        "      k_indices = np.argsort(distances)[:self.k]\n",
        "\n",
        "      # Get the labels corresponding to the k-nearest points to x\n",
        "      k_nearest_labels = [self.y_train[i] for i in k_indices]\n",
        "\n",
        "      # Determine the most common label of the k-nearest points to x\n",
        "      most_common = Counter(k_nearest_labels).most_common()\n",
        "      return most_common[0][0]"
      ]
    },
    {
      "cell_type": "code",
      "execution_count": null,
      "metadata": {
        "colab": {
          "base_uri": "https://localhost:8080/",
          "height": 449
        },
        "id": "tSpJhKz8-J62",
        "outputId": "be0a3acc-025d-43ad-88dd-511610f44ed2"
      },
      "outputs": [
        {
          "data": {
            "image/png": "[encoded data removed]",
            "text/plain": [
              "<Figure size 640x480 with 1 Axes>"
            ]
          },
          "metadata": {},
          "output_type": "display_data"
        }
      ],
      "source": [
        "accuracy = []\n",
        "\n",
        "for i in range(1,41):\n",
        "    knn_class = KNN_classification(k=i)\n",
        "    knn_class.fit(x_train, y_train)\n",
        "    y_pred = knn_class.predict(x_valid)\n",
        "    accuracy.append(metrics.accuracy_score(y_valid, y_pred))\n",
        "\n",
        "x = np.arange(40) + 1\n",
        "plt.plot(x, accuracy, label='accuracy')\n",
        "plt.xlabel('n neighbors') # Label x-axis\n",
        "plt.ylabel('accuracy') # Label y-axis\n",
        "plt.legend() # Show plot labels as legend\n",
        "plt.show() # Show graph"
      ]
    },
    {
      "cell_type": "code",
      "execution_count": null,
      "metadata": {
        "colab": {
          "base_uri": "https://localhost:8080/"
        },
        "id": "-B77zJOrK_mt",
        "outputId": "61f6e8d0-9a07-4fc7-9c8d-6670d3dfc769"
      },
      "outputs": [
        {
          "output_type": "stream",
          "name": "stdout",
          "text": [
            "Accuracy:  0.5907428427292218\n",
            "F1 score =  0.6303679234536964\n",
            "AUC score =  0.5860919917281492\n"
          ]
        }
      ],
      "source": [
        "# Creating an instance of the KNN_classification class with the hyperparameter k = 31\n",
        "knn_class = KNN_classification(k=31)\n",
        "\n",
        "# Training the model on the feature matrix and the target vector\n",
        "knn_class.fit(x_train, y_train)\n",
        "\n",
        "# Obtaining model predictions on the test set\n",
        "y_pred = knn_class.predict(x_test)\n",
        "\n",
        "# Calculating the classification accuracy\n",
        "print(\"Accuracy: \", metrics.accuracy_score(y_test, y_pred))\n",
        "\n",
        "# Calculating the F1 score of the classification\n",
        "print(\"F1 score = \", metrics.f1_score(y_test, y_pred))\n",
        "\n",
        "# Calculating the AUC score of the classification\n",
        "print(\"AUC score = \", metrics.roc_auc_score(y_test, y_pred))"
      ]
    },
    {
      "cell_type": "markdown",
      "metadata": {
        "id": "JazygtA32kKs"
      },
      "source": [
        "------------------------------------------------------------------------------------------ **Sklearn testing**   ------------------------------------------------------------------------------------------\n",
        "\n"
      ]
    },
    {
      "cell_type": "code",
      "execution_count": null,
      "metadata": {
        "colab": {
          "base_uri": "https://localhost:8080/"
        },
        "id": "5KnFAkhFocVu",
        "outputId": "4188f555-5500-4a56-ff52-c9d5ae3657c8"
      },
      "outputs": [
        {
          "output_type": "stream",
          "name": "stdout",
          "text": [
            "Accuracy:  0.5907428427292218\n",
            "F1 score =  0.6303679234536964\n",
            "AUC score =  0.5860919917281492\n"
          ]
        }
      ],
      "source": [
        "from sklearn.neighbors import KNeighborsClassifier\n",
        "\n",
        "neigh = KNeighborsClassifier(n_neighbors=31)\n",
        "neigh.fit(x_train, y_train)\n",
        "y_pred = neigh.predict(x_test)\n",
        "print(\"Accuracy: \",metrics.accuracy_score(y_test, y_pred))\n",
        "print(\"F1 score = \", metrics.f1_score(y_test, y_pred))\n",
        "print(\"AUC score = \", metrics.roc_auc_score(y_test, y_pred))"
      ]
    },
    {
      "cell_type": "markdown",
      "metadata": {
        "id": "AghEfotwAYG-"
      },
      "source": [
        "# Regression with Neural Networks"
      ]
    },
    {
      "cell_type": "markdown",
      "metadata": {
        "id": "RIx2hXnwVauR"
      },
      "source": [
        "The basic structure of a single hidden layer **neural network** consists of three main parts: the input layer (input layer), the hidden layer (hidden layer) and the output layer (output layer).\n",
        "\n",
        "The input layer receives input data, which can be represented as a vector of values. Each element in the input vector represents a feature or variable that is used to make the prediction.\n",
        "\n",
        "The 'hidden layer is responsible for extracting the relevant features from the input data. It is called \"hidden\" because its intermediate values are not directly observable outside the neural network. The 'hidden layer consists of one or more neurons, also called nodes or units. Each neuron in the hidden layer receives input from neurons in the previous layer (in this case, the input layer) and produces activation based on the weights associated with the inputs and an activation function. The activation function introduces nonlinearity into the model, allowing the neural network to learn complex relationships between the input data and the desired output.\n",
        "\n",
        "The output layer receives activations from the hidden layer and produces the final output of the neural network. In regression, the output layer usually consists of a single neuron that produces a continuous value as a prediction.\n",
        "\n",
        "The training process of a single hidden layer neural network involves two main steps: forward pass (forward propagation) and backpropagation (error backpropagation).\n",
        "\n",
        "During forward propagation, input data is fed through the neural network, calculating the activations of neurons in each layer and propagating the values to the output layer. The final output of the neural network is compared with the desired output value to calculate an error instance.\n",
        "\n",
        "Next, during error back-propagation, the computed error is propagated backward through the neural network to update the link weights between neurons. This process uses gradient descent to minimize the overall error of the neural network and improve predictions.\n",
        "\n",
        "Training continues through multiple iterations (epochs) until the model achieves good accuracy or meets a stopping criterion.\n",
        "\n",
        "In this case we are going to implement a Shallow Neural Network, that is, a Neural Network with a single hidden layer."
      ]
    },
    {
      "cell_type": "code",
      "execution_count": null,
      "metadata": {
        "id": "LnZKRloEPTFy"
      },
      "outputs": [],
      "source": [
        "# Creating a copy of the original dataframe\n",
        "data_nn_regression = df.copy()\n",
        "\n",
        "# Extracting the input features 'x' and the target variable 'y'\n",
        "x, y = data_nn_regression.iloc[:, :58].values, data_nn_regression['shares'].values\n",
        "\n",
        "# Reshaping the target variable 'y'\n",
        "y = y.reshape(y.shape[0], 1)\n",
        "\n",
        "# Splitting the dataset into training and test sets\n",
        "x_train, x_test, y_train, y_test = train_test_split(x, y, test_size=0.2, random_state=1)\n",
        "\n",
        "# Normalizing the input features using MinMaxScaler\n",
        "sx = preprocessing.MinMaxScaler()\n",
        "scaled_X_train = sx.fit_transform(x_train)\n",
        "scaled_X_test = sx.transform(x_test)"
      ]
    },
    {
      "cell_type": "code",
      "execution_count": null,
      "metadata": {
        "id": "bY7SPfumMKhX"
      },
      "outputs": [],
      "source": [
        "class NeuralNetwork_regression:\n",
        "\n",
        "    # Constructor of the NeuralNetwork_regression class:\n",
        "    def __init__(self, input_size, hidden_size, output_size):\n",
        "        self.input_size = input_size\n",
        "        self.hidden_size = hidden_size\n",
        "        self.output_size = output_size\n",
        "\n",
        "        # Initialize neural network parameters, weights, and biases\n",
        "        self.W1 = np.random.randn(self.input_size, self.hidden_size)\n",
        "        self.b1 = np.zeros((1, self.hidden_size))\n",
        "        self.W2 = np.random.randn(self.hidden_size, self.output_size)\n",
        "        self.b2 = np.zeros((1, self.output_size))\n",
        "\n",
        "    # Performs forward propagation of the neural network.\n",
        "    def forward(self, X):\n",
        "\n",
        "        # Calculate the output of the hidden layer\n",
        "        self.z1 = np.dot(X, self.W1) + self.b1\n",
        "        self.a1 = np.tanh(self.z1)\n",
        "\n",
        "        # Calculate the output of the output layer\n",
        "        self.z2 = np.dot(self.a1, self.W2) + self.b2\n",
        "        self.y_hat = self.z2\n",
        "\n",
        "        return self.y_hat\n",
        "\n",
        "    # Performs backward propagation of the neural network.\n",
        "    def backward(self, X, y, learning_rate):\n",
        "\n",
        "        # Calculate the output error\n",
        "        delta3 = self.y_hat - y\n",
        "\n",
        "        # Calculate gradients of the output layer weights\n",
        "        dW2 = np.dot(self.a1.T, delta3) / X.shape[0]\n",
        "        db2 = np.sum(delta3)\n",
        "\n",
        "        # Calculate the error of the hidden layer using the derivative of tanh\n",
        "        delta2 = np.dot(delta3, self.W2.T) * (1 - np.power(self.a1, 2))\n",
        "\n",
        "        # Calculate gradients of the hidden layer weights\n",
        "        dW1 = np.dot(X.T, delta2) / X.shape[0]\n",
        "        db1 = np.sum(delta2)\n",
        "\n",
        "        # Update the neural network weights\n",
        "        self.W1 -= learning_rate * dW1\n",
        "        self.b1 -= learning_rate * db1\n",
        "        self.W2 -= learning_rate * dW2\n",
        "        self.b2 -= learning_rate * db2\n",
        "\n",
        "    def train(self, X, y, learning_rate=0.000001, num_epochs=100):\n",
        "        # Train the neural network for a specified number of epochs\n",
        "        for epoch in range(num_epochs):\n",
        "            # Perform the forward pass\n",
        "            y_hat = self.forward(X)\n",
        "\n",
        "            # Perform the backward pass and update the weights\n",
        "            self.backward(X, y, learning_rate)"
      ]
    },
    {
      "cell_type": "code",
      "execution_count": null,
      "metadata": {
        "colab": {
          "base_uri": "https://localhost:8080/"
        },
        "id": "280tL7THXozt",
        "outputId": "b3129ac3-979a-43cf-d5a8-a8e16bcd5fae"
      },
      "outputs": [
        {
          "name": "stdout",
          "output_type": "stream",
          "text": [
            "Root Mean Squared Error = 8402.605689635042\n"
          ]
        }
      ],
      "source": [
        "# Create a new neural network with 58 inputs, 10 nodes in the hidden layer, and 1 output\n",
        "nn = NeuralNetwork_regression(58, 10, 1)\n",
        "\n",
        "# Train the neural network with training data x_train and y_train\n",
        "nn.train(scaled_X_train, y_train)\n",
        "\n",
        "# Make predictions using the trained neural network on test data x_test\n",
        "y_pred = nn.forward(scaled_X_test)\n",
        "\n",
        "# Calculate the RMSE (Root Mean Squared Error) between predictions and the target vector\n",
        "rmse = mean_squared_error(y_test, y_pred, squared=False)\n",
        "\n",
        "# Print the RMSE value\n",
        "print(\"Root Mean Squared Error = \" + str(rmse))"
      ]
    },
    {
      "cell_type": "markdown",
      "metadata": {
        "id": "_8OrdLX6-zDV"
      },
      "source": [
        "------------------------------------------------------------------------------------------ **Sklearn testing**   ------------------------------------------------------------------------------------------\n",
        "\n"
      ]
    },
    {
      "cell_type": "code",
      "execution_count": null,
      "metadata": {
        "colab": {
          "base_uri": "https://localhost:8080/"
        },
        "id": "fOyOwhEIxwbP",
        "outputId": "2a63d7de-0e8e-4d5d-8729-2e029f2f1e1c"
      },
      "outputs": [
        {
          "name": "stdout",
          "output_type": "stream",
          "text": [
            "Root Mean Squared Error = 8387.27520120709\n"
          ]
        }
      ],
      "source": [
        "from sklearn.neural_network import MLPRegressor\n",
        "regr = MLPRegressor(random_state=1)\n",
        "regr.fit(x_train, np.ravel(y_train))\n",
        "y_pred = regr.predict(x_test)\n",
        "rmse = mean_squared_error(y_test, y_pred, squared=False)\n",
        "print(\"Root Mean Squared Error = \" + str(rmse))"
      ]
    },
    {
      "cell_type": "markdown",
      "metadata": {
        "id": "mBIqMoAdB8dB"
      },
      "source": [
        "# Classification with Neural Networks"
      ]
    },
    {
      "cell_type": "code",
      "execution_count": null,
      "metadata": {
        "id": "Y8VsbkuLDc9i"
      },
      "outputs": [],
      "source": [
        "# Create a copy of the original dataframe\n",
        "data_nn_classification = df.copy()\n",
        "\n",
        "# Add a new column 'class' that indicates whether an article has received more than 1400 shares\n",
        "# The value 1 indicates that the article received more than 1400 shares, while 0 indicates it received less\n",
        "data_nn_classification['class'] = np.where(data_nn_classification['shares'] >= 1400, 1, 0)\n",
        "\n",
        "# Remove the 'shares' column since we won't use it as an input feature\n",
        "data_nn_classification = data_nn_classification.drop('shares', axis=1)\n",
        "\n",
        "# Split input features (x) from the output class (y)\n",
        "x, y = data_nn_classification.iloc[:, :58], data_nn_classification['class']\n",
        "\n",
        "# Reshape the dependent variable 'y'\n",
        "y = y.values.reshape(y.shape[0], 1)\n",
        "\n",
        "# Split the dataset into training and test sets\n",
        "x_train, x_test, y_train, y_test = train_test_split(x, y, test_size=0.2, random_state=1)\n",
        "\n",
        "# Split the dataset into training and validation sets\n",
        "x_train, x_valid, y_train, y_valid = train_test_split(x_train, y_train, test_size=0.2, random_state=1)\n",
        "\n",
        "# Normalize the input features using MinMaxScaler\n",
        "sx = preprocessing.MinMaxScaler()\n",
        "scaled_X_train = sx.fit_transform(x_train)\n",
        "scaled_X_valid = sx.fit_transform(x_valid)\n",
        "scaled_X_test = sx.transform(x_test)"
      ]
    },
    {
      "cell_type": "code",
      "execution_count": null,
      "metadata": {
        "id": "W1LwNimBB_1V"
      },
      "outputs": [],
      "source": [
        "class NeuralNetwork_classification:\n",
        "\n",
        "    # Constructor of the NeuralNetwork_classification class:\n",
        "    def __init__(self, input_size, hidden_size, output_size):\n",
        "        self.input_size = input_size\n",
        "        self.hidden_size = hidden_size\n",
        "        self.output_size = output_size\n",
        "\n",
        "        # Initialize neural network parameters, weights, and biases\n",
        "        self.W1 = np.random.randn(self.input_size, self.hidden_size)\n",
        "        self.b1 = np.zeros((1, self.hidden_size))\n",
        "        self.W2 = np.random.randn(self.hidden_size, self.output_size)\n",
        "        self.b2 = np.zeros((1, self.output_size))\n",
        "\n",
        "    # Perform forward propagation of the neural network\n",
        "    def forward(self, X):\n",
        "\n",
        "        # Calculate the output of the hidden layer\n",
        "        self.z1 = np.dot(X, self.W1) + self.b1\n",
        "        self.a1 = np.tanh(self.z1)\n",
        "\n",
        "        # Calculate the output of the output layer\n",
        "        self.z2 = np.dot(self.a1, self.W2) + self.b2\n",
        "        self.y_hat = self.sigmoid(self.z2)\n",
        "\n",
        "        return self.y_hat\n",
        "\n",
        "    # Perform backward propagation of the neural network\n",
        "    def backward(self, X, y, learning_rate):\n",
        "\n",
        "        # Calculate the output error\n",
        "        delta2 = self.y_hat - y\n",
        "\n",
        "        # Calculate gradients of the output layer weights\n",
        "        dW2 = np.dot(self.a1.T, delta2)\n",
        "        db2 = np.sum(delta2)\n",
        "\n",
        "        # Calculate the error of the hidden layer using the derivative of tanh\n",
        "        delta1 = np.dot(delta2, self.W2.T) * (1 - np.power(self.a1, 2))\n",
        "\n",
        "        # Calculate gradients of the hidden layer weights\n",
        "        dW1 = np.dot(X.T, delta1)\n",
        "        db1 = np.sum(delta1, axis=0)\n",
        "\n",
        "        # Update the neural network weights\n",
        "        self.W1 -= learning_rate * dW1\n",
        "        self.b1 -= learning_rate * db1\n",
        "        self.W2 -= learning_rate * dW2\n",
        "        self.b2 -= learning_rate * db2\n",
        "\n",
        "    def train(self, X, y, learning_rate=0.0001, num_epochs=1000):\n",
        "        # Train the neural network for a specified number of epochs\n",
        "        for epoch in range(num_epochs):\n",
        "            # Perform the forward pass\n",
        "            y_hat = self.forward(X)\n",
        "\n",
        "            # Perform the backward pass and update the weights\n",
        "            self.backward(X, y, learning_rate)\n",
        "\n",
        "    def predict(self, X):\n",
        "        # Perform prediction for the input X\n",
        "        y_hat = self.forward(X)\n",
        "        predictions = (y_hat > 0.5).astype(int)\n",
        "        return predictions\n",
        "\n",
        "    def sigmoid(self, x):\n",
        "        # Sigmoid activation function\n",
        "        return 1 / (1 + np.exp(-x))"
      ]
    },
    {
      "cell_type": "code",
      "execution_count": null,
      "metadata": {
        "colab": {
          "base_uri": "https://localhost:8080/",
          "height": 449
        },
        "id": "nsxEsH6zEQk8",
        "outputId": "8535a32e-c738-4dd0-fceb-56c0e84bceb6"
      },
      "outputs": [
        {
          "data": {
            "image/png": "[encoded data removed]",
            "text/plain": [
              "<Figure size 640x480 with 1 Axes>"
            ]
          },
          "metadata": {},
          "output_type": "display_data"
        }
      ],
      "source": [
        "accuracy = []\n",
        "\n",
        "for i in range(2,21):\n",
        "  nn = NeuralNetwork_classification(58, i, 1)\n",
        "  nn.train(scaled_X_train, y_train)\n",
        "  y_pred = nn.predict(scaled_X_valid)\n",
        "  accuracy.append(metrics.accuracy_score(y_valid, y_pred))\n",
        "\n",
        "x = np.arange(19) + 2\n",
        "plt.plot(x, accuracy, label='accuracy')\n",
        "plt.xlabel('hidden nodes') # Label x-axis\n",
        "plt.ylabel('accuracy') # Label y-axis\n",
        "plt.legend() # Show plot labels as legend\n",
        "plt.show() # Show graph"
      ]
    },
    {
      "cell_type": "markdown",
      "metadata": {
        "id": "5nZ-gCRmqDy-"
      },
      "source": [
        "After evaluating the results on the prediction of the validation set, we choose the number of nodes in the best hidden layer, in this case ***hidden nodes = 8***"
      ]
    },
    {
      "cell_type": "code",
      "execution_count": null,
      "metadata": {
        "colab": {
          "base_uri": "https://localhost:8080/"
        },
        "id": "O9zRvz0rulve",
        "outputId": "c281230c-ecd7-4a55-bd46-c39276338927"
      },
      "outputs": [
        {
          "output_type": "stream",
          "name": "stdout",
          "text": [
            "Accuracy =  0.6252995333585571\n",
            "F1 score =  0.6930468023556152\n",
            "AUC score =  0.6127511577138077\n"
          ]
        }
      ],
      "source": [
        "# Create a new neural network with 58 inputs, 8 nodes in the hidden layer, and 1 output\n",
        "nn = NeuralNetwork_classification(58, 8, 1)\n",
        "\n",
        "# Train the neural network with training data x_train and y_train\n",
        "nn.train(scaled_X_train, y_train)\n",
        "\n",
        "# Make predictions using the trained neural network on test data x_test\n",
        "y_pred = nn.predict(scaled_X_test)\n",
        "\n",
        "# Calculate classification accuracy\n",
        "print(\"Accuracy = \", metrics.accuracy_score(y_test, y_pred))\n",
        "\n",
        "# Calculate the F1 score of the classification\n",
        "print(\"F1 score = \", metrics.f1_score(y_test, y_pred))\n",
        "\n",
        "# Calculate the AUC (Area Under the Curve) score of the classification\n",
        "print(\"AUC score = \", metrics.roc_auc_score(y_test, y_pred))"
      ]
    },
    {
      "cell_type": "markdown",
      "metadata": {
        "id": "ykt5DF9vR1g1"
      },
      "source": [
        "------------------------------------------------------------------------------------------ **Sklearn testing**   ------------------------------------------------------------------------------------------\n",
        "\n"
      ]
    },
    {
      "cell_type": "code",
      "execution_count": null,
      "metadata": {
        "colab": {
          "base_uri": "https://localhost:8080/"
        },
        "id": "T2TQUGxqxFPR",
        "outputId": "301af75f-5a8c-47d0-dd13-a5215fb7d57d"
      },
      "outputs": [
        {
          "output_type": "stream",
          "name": "stdout",
          "text": [
            "Accuracy =  0.631227140875268\n",
            "F1 score =  0.7038687462021471\n",
            "AUC score =  0.6169597879091324\n"
          ]
        }
      ],
      "source": [
        "from sklearn.neural_network import MLPClassifier\n",
        "clf = MLPClassifier(hidden_layer_sizes=(8,), activation=\"tanh\", max_iter=1000)\n",
        "clf.fit(scaled_X_train, np.ravel(y_train))\n",
        "y_pred = clf.predict(scaled_X_test)\n",
        "print(\"Accuracy = \", metrics.accuracy_score(y_test, y_pred))\n",
        "print(\"F1 score = \", metrics.f1_score(y_test, y_pred))\n",
        "print(\"AUC score = \", metrics.roc_auc_score(y_test, y_pred))"
      ]
    },
    {
      "cell_type": "markdown",
      "metadata": {
        "id": "g30iwApCVogj"
      },
      "source": [
        "#Conclusions"
      ]
    },
    {
      "cell_type": "markdown",
      "metadata": {
        "id": "1oXTxsmBV6vm"
      },
      "source": [
        "### **Classification results**\n",
        "\n",
        "\n",
        "*   ***Decision Tree***:\n",
        "\n",
        "  Accuracy =  0.64\n",
        "  \n",
        "  F1 score =  0.67\n",
        "  \n",
        "  AUC score =  0.64\n",
        "\n",
        "*   ***Linear Regression con funzione di threshold***:\n",
        "\n",
        "  Accuracy = 0.61\n",
        "\n",
        "  F1 score =  0.57\n",
        "\n",
        "  AUC score =  0.62\n",
        "*   ***Logistic Regression***:\n",
        "  \n",
        "  Accuracy = 0.64\n",
        "\n",
        "  F1 score =  0.68\n",
        "  \n",
        "  AUC score =  0.63\n",
        "\n",
        "*   ***K-Nearest Neighbors***:\n",
        "\n",
        "  Accuracy = 0.64\n",
        "\n",
        "  F1 score =  0.68\n",
        "\n",
        "  AUC score =  0.63\n",
        "*   ***Neural Network***:\n",
        "\n",
        "  Accuracy =  0.63\n",
        "  \n",
        "  F1 score =  0.69\n",
        "  \n",
        "  AUC score =  0.61\n",
        "\n",
        "We can see that the implemented models have **similar** performance in terms of accuracy, with values ranging around 61-64%. However, there are some differences in the evaluation measures such as F1 score and AUC score.\n",
        "\n",
        "The **Neural Network** model obtained a higher **F1 score** than the other models, indicating a good balance between accuracy and recall in classification. This suggests that the Neural Network model can correctly identify positive instances and minimize false positives and false negatives. However, the AUC score for the Neural Network model is slightly lower than the other models, indicating moderate precision in binary classification.\n",
        "\n",
        "Another model that performed better than the others is **K-Nearest Neighbors**. This may be caused by the fact that KNN is generally robust to noise or anomalous points in the training data. In fact, the final decision depends on the majority vote of the neighboring data points, so a single noisy point will have little impact on the final result.\n",
        "\n",
        "The worst performing model is the **Linear Regression with threshold function**. The main reason for this stems from inherent features of the current model, such as the use of a rigid threshold.\n",
        "This rigid behavior of the model can lead to incorrect and uncertain predictions when dealing with examples that are close to the boundary between classes.\n",
        "\n",
        "One solution to these issues is the use of **Logistic Regression**, which uses a softened threshold function called a logistic function. Compared with the previous model, logistic regression behaves more predictably and reliably. This is reflected in higher accuracy (accuracy) and F1-score, which are the highest among the classification models implemented."
      ]
    },
    {
      "cell_type": "markdown",
      "source": [
        "### **Regression results**\n",
        "\n",
        "*   ***Linear Regression*** :\n",
        "  \n",
        "  RMSE = 8427.77\n",
        "*   ***Linear Regression with L1 regularization*** :\n",
        "  \n",
        "  RMSE = 8427.51\n",
        "*   ***Linear Regression with L2 regularization*** :\n",
        "\n",
        "  RMSE = 8401.85\n",
        "*   ***Linear Regression with Elastic Net regularization*** :\n",
        "  \n",
        "  RMSE = 8401.11\n",
        "*   ***K-Nearest Neighbors*** :\n",
        "  \n",
        "  RMSE = 8459.00\n",
        "*  ***Neural Network*** :\n",
        "  \n",
        "  RMSE = 8402.60\n",
        "\n",
        "Comparing the results of the regression models, based on the value of the RMSE, we can see that the **Linear Regression** models with L2 regularization and **Elastic Net**, as well as the **Neural Network** model, have a slightly lower RMSE than the other models.\n",
        "\n",
        "They can see how **all three regularizations** help reduce **overfitting**, i.e., the tendency of the model to overfit the training data, by increasing its generalization ability. By adding a penalty term, regularizations limit model complexity and reduce sensitivity to training data. This leads to more accurate and stable predictions on new data.\n",
        "\n",
        "In addition, we can see how L2 (**Ridge**) regularization and the **Elastic Net** help reduce the model variance, that is, the sensitivity of the model to random variations in the training data. By reducing the width of the regression coefficients, these regularizations make the model less susceptible to oscillations and noise in the data."
      ],
      "metadata": {
        "id": "yf39sfgg4gmt"
      }
    },
    {
      "cell_type": "markdown",
      "source": [
        "### **Improving models**\n",
        "\n",
        "To improve model performance, the following strategies could be considered:\n",
        "\n",
        "1. **Parameter optimization**: Larger values of hyperparameters could be explored for each model, for example, the size of the hidden layer or the number of n neighbors. 'Parameter optimization could allow the models to better fit the data and improve overall performance.\n",
        "\n",
        "2.  **Ensemble methods**: One could consider using ensemble techniques, such as bagging or boosting, that combine the results of multiple models to obtain a final prediction. This can lead to greater stability and improve prediction performance.\n",
        "\n",
        "3. **Use of feature selection techniques**: Since the dataset has many features, it may be useful to use feature selection techniques to identify the most informative features and reduce the dimensionality of the problem. This can simplify the model and improve performance."
      ],
      "metadata": {
        "id": "VZhU73Wf4l9J"
      }
    }
  ],
  "metadata": {
    "colab": {
      "provenance": [],
      "toc_visible": true
    },
    "kernelspec": {
      "display_name": "Python 3",
      "name": "python3"
    },
    "language_info": {
      "name": "python"
    }
  },
  "nbformat": 4,
  "nbformat_minor": 0
}